{
 "cells": [
  {
   "cell_type": "markdown",
   "id": "135df3b5",
   "metadata": {},
   "source": [
    "# Assignment 3\n",
    "## Yuntong Xiao"
   ]
  },
  {
   "cell_type": "markdown",
   "id": "976f7a71",
   "metadata": {},
   "source": [
    "### Assignment 3 Part 1 \n",
    "#### (1)\tDo the following IN YOUR BROWSER, no programming required. Please write down your answers (concise written answers please). \n",
    "Use your browsers development tools. Open the network tab and analyze the network for the following: \n",
    "##### a)\tgo to https://www.ebay.com and search for “lg phone”; \n",
    "\n",
    "##### b) what type of search request is eBay using, GET or POST? \n",
    "eBay uses GET request of search. The searching item parameters remain in browser history because they are part of the URL: \n",
    "https://www.ebay.com/sch/i.html?_nkw=lg+phone&_trksid=p2334524.m4084.l1312&_odkw=lg+phone&LH_TitleDesc=0&_sacat=0\n",
    "\n",
    "##### b)\twhich URL variable represents the search term? \n",
    "\n",
    "_nkw variable represents the search term\n",
    "\n",
    "##### c)\tclick on “Auction”. Which URL variable represents auction searches? \n",
    "\n",
    "LH_Auction variable represents auction searches\n",
    "\n",
    "##### d)\tcan you come up with a shorter URL that produces the same search result page?\n",
    "\n",
    "The shorter URL: https://www.ebay.com/sch/i.html?_nkw=lg+phone&LH_Auction=1 \n",
    "\n",
    "##### e)\tclick on the next search result page and observe how the URL changes. What variable in the URL identifies the page number? \n",
    "\n",
    "_pgn variable identifies the page number\n",
    "\n",
    "##### f)\twhat is the feature common to each item in the search results page? i.e., what item do we need to select to obtain each item among the search results? \n",
    "\n",
    "Every item in the search results page has tag \\<li\\> and the followed the same tag \\<div\\> having class=”s-item__wrapper clearfix”followed the same features: s-item__image-section and s-item__info clearfx\n",
    "\n",
    "##### g)\tidentify the number of bids for each item in search results. What do they have in common? How does it look in the HTML source code?\n",
    "    \n",
    "All the number of bids for each item in search results has the same tag: \\<span\\> and attribute: class and value of the attribute: “s-item__bids s-item__bidCount”\n",
    "\n"
   ]
  },
  {
   "cell_type": "markdown",
   "id": "f8be09a7",
   "metadata": {},
   "source": [
    "### Assignment 3 Part 2"
   ]
  },
  {
   "cell_type": "code",
   "execution_count": 3,
   "id": "08808ba2",
   "metadata": {},
   "outputs": [],
   "source": [
    "#! pip install bs4\n",
    "#! pip install urllib\n",
    "#! pip install re\n",
    "\n",
    "from bs4 import BeautifulSoup \n",
    "### Import the web scarbing package in Python and named it as BeautifulSoup\n",
    "\n",
    "from urllib.request import urlopen \n",
    "### Import the url web open tool package in Python and named is as urlopen\n"
   ]
  },
  {
   "cell_type": "markdown",
   "id": "b6705b73",
   "metadata": {},
   "source": [
    "# Question a"
   ]
  },
  {
   "cell_type": "markdown",
   "id": "4f07abc8",
   "metadata": {},
   "source": [
    "Use the URL identified above and write code that loads eBay’s search result page for “lg phone”.\n",
    "Save the result to a file. (Please give it a meaningful filename. E.g., “ebay_lg_phone_01.htm”.)"
   ]
  },
  {
   "cell_type": "code",
   "execution_count": 4,
   "id": "b3be8ce6",
   "metadata": {},
   "outputs": [],
   "source": [
    "url = \"https://www.ebay.com/\"  ### Set the url of the Ebay website\n",
    "\n",
    "search = \"lg+phone\" ### Set the search term \n",
    "\n",
    "url2 = url + 'sch/i.html?_nkw=' + search ### Set the search url\n",
    "\n",
    "response=urlopen(url2) \n",
    "### Open the Ebay website and store the object as response which can \n",
    "### work as a context manager and has the properties url\n"
   ]
  },
  {
   "cell_type": "code",
   "execution_count": 5,
   "id": "e69aaf37",
   "metadata": {},
   "outputs": [],
   "source": [
    "import urllib.request\n",
    " \n",
    "### Create the function to open and read the url, return the html result\n",
    "def getHtml(url):\n",
    "    html = urllib.request.urlopen(url).read()\n",
    "    return html\n",
    " \n",
    "### Save the page information into .html file\n",
    "def saveHtml(file_name, file_content):\n",
    "    with open(file_name.replace('/', '_') + \".html\", \"wb\") as f:\n",
    "        f.write(file_content)\n"
   ]
  },
  {
   "cell_type": "code",
   "execution_count": 6,
   "id": "34cacfab",
   "metadata": {},
   "outputs": [],
   "source": [
    "### Get the searched page\n",
    "html = getHtml(url2)\n",
    "saveHtml(\"ebay_lg_phone_01\", html)\n",
    "#print(html)"
   ]
  },
  {
   "cell_type": "markdown",
   "id": "6741c7ea",
   "metadata": {},
   "source": [
    "# Question b"
   ]
  },
  {
   "cell_type": "markdown",
   "id": "0755baaf",
   "metadata": {},
   "source": [
    "Take your code in (a) and write a loop that will download the first 10 pages of search results\n",
    "(or the maximum result page number, whichever is less). Save each of these pages.\n",
    "IMPORTANT: Each page request needs to be followed by at least a 10 second pause! remember,\n",
    "you want your program to mimic your behavior as a human and help you make good\n",
    "purchasing decisions."
   ]
  },
  {
   "cell_type": "code",
   "execution_count": 7,
   "id": "66faf10a",
   "metadata": {},
   "outputs": [],
   "source": [
    "url = \"https://www.ebay.com/\"  ### Set the url of the Ebay website\n",
    "\n",
    "search = \"lg+phone\" ### Set the search term \n",
    "\n",
    "page = \"&_pgn=\" ### Set page number \n",
    "\n",
    "url2 = url + 'sch/i.html?_nkw=' + search + page### Set the search url\n"
   ]
  },
  {
   "cell_type": "code",
   "execution_count": 8,
   "id": "3f6d562f",
   "metadata": {},
   "outputs": [
    {
     "name": "stdout",
     "output_type": "stream",
     "text": [
      "https://www.ebay.com/sch/i.html?_nkw=lg+phone&_pgn=1\n",
      "https://www.ebay.com/sch/i.html?_nkw=lg+phone&_pgn=2\n",
      "https://www.ebay.com/sch/i.html?_nkw=lg+phone&_pgn=3\n",
      "https://www.ebay.com/sch/i.html?_nkw=lg+phone&_pgn=4\n",
      "https://www.ebay.com/sch/i.html?_nkw=lg+phone&_pgn=5\n",
      "https://www.ebay.com/sch/i.html?_nkw=lg+phone&_pgn=6\n",
      "https://www.ebay.com/sch/i.html?_nkw=lg+phone&_pgn=7\n",
      "https://www.ebay.com/sch/i.html?_nkw=lg+phone&_pgn=8\n",
      "https://www.ebay.com/sch/i.html?_nkw=lg+phone&_pgn=9\n",
      "https://www.ebay.com/sch/i.html?_nkw=lg+phone&_pgn=10\n"
     ]
    }
   ],
   "source": [
    "import requests\n",
    "import time \n",
    "\n",
    "for i in range(1,11):   ### request 10 pages of the search results\n",
    "    headers ={'user-agent': 'Mozilla/5.0 (Linux; Android 6.0; Nexus 5 Build/MRA58N) AppleWebKit/537.36 (KHTML, like Gecko) Chrome/97.0.4692.99 Mobile Safari/537.36'\n",
    "    } ### Use headers to imitate as a human user\n",
    "    myurl = url2 + str(i)  ### Set 1 to 10 page number \n",
    "    filename = \"ebay_lg_phone_\"+str(i) ### Create page url\n",
    "    response_1=requests.get(myurl, headers=headers) ## get url results\n",
    "    time.sleep(10) ### sleep 10 seconds \n",
    "    print(myurl)\n",
    "    f = open(filename.replace('/', '_') + \".html\", \"wb\") ### Open an empty html file\n",
    "    f.write(response_1.content)#save to page.html\n",
    "    f.close()\n"
   ]
  },
  {
   "cell_type": "markdown",
   "id": "ce84d0eb",
   "metadata": {},
   "source": [
    "# Question c"
   ]
  },
  {
   "cell_type": "markdown",
   "id": "dfd10e09",
   "metadata": {},
   "source": [
    "Write a separate piece of code that loops through the pages you downloaded in (b) and opens and\n",
    "parses them into a Python or Java xxxxsoup-object. Next find the number of bids of each item on each\n",
    "search result page and print them to screen along with each item’s URL"
   ]
  },
  {
   "cell_type": "code",
   "execution_count": 9,
   "id": "1a9f9197",
   "metadata": {
    "scrolled": true
   },
   "outputs": [
    {
     "name": "stdout",
     "output_type": "stream",
     "text": [
      "LG Phoenix 4 LM-X210APM - 16GB - Black (AT&T Locked): 8 bids , https://www.ebay.com/itm/154801749961?epid=10041816122&hash=item240ae73fc9:g:ILIAAOSw1Tph53R~\n",
      "LG V60 ThinQ 5G LMV600VM - 128GB - Classy Blue (Verizon) (Single SIM): 0 bids , https://www.ebay.com/itm/284620688295?epid=26037829743&hash=item4244b70ba7:g:DKoAAOSwLhth7HYe\n",
      "LG LM600TM V60 THINQ 5G Dual Screen Smartphone 128GB T-Mobile 6.8\" Blue: 21 bids , https://www.ebay.com/itm/393899325153?epid=21037603207&hash=item5bb63ab6e1:g:YR0AAOSwqh5h8Dxa\n",
      "LG V20 - 64GB - Titan (Sprint) Smartphone: 1 bid , https://www.ebay.com/itm/304325218446?epid=232115107&hash=item46db32508e:g:HL0AAOSwGQJh606B\n",
      "LG V40 ThinQ V405QA7 - 64GB - Aurora Black (Unlocked): 23 bids , https://www.ebay.com/itm/194765139377?epid=8024885378&hash=item2d58e82db1:g:1FgAAOSwygRh7uhq\n",
      "LG G8 ThinQ - 128GB - Gray (Unlocked): 1 bid , https://www.ebay.com/itm/224807502334?epid=28031136652&hash=item34579241fe:g:2FQAAOSwNsdh8Gob\n",
      "LG Velvet 5G LMG900TM - 128GB - Aurora Gray (T-Mobile) (Single SIM): 9 bids , https://www.ebay.com/itm/255346225724?epid=28041264968&hash=item3b73d2323c:g:7~kAAOSwlQ1h61ne\n",
      "TRACFONE LG Classic Flip Phone Prepaid SIM Included 8GB MINT CONDITION: 0 bids , https://www.ebay.com/itm/154811626417?epid=21040136433&hash=item240b7df3b1:g:VxEAAOSwPPJh8DMj\n",
      "LG V30+ - 128GB - Aurora Black (Unlocked) Smartphone: 26 bids , https://www.ebay.com/itm/255340638666?epid=13017346430&hash=item3b737cf1ca:g:6NAAAOSwBahh05XJ\n",
      "LG G8 ThinQ - 128GB - Gray (GSM Unlocked) : 1 bid , https://www.ebay.com/itm/224805225776?epid=28031136652&hash=item34576f8530:g:W0kAAOSwmuZh40X5\n",
      "Unlocked LG V40 ThinQ (Latest Model) LM-V405 64GB Black Phone (Read Description): 14 bids , https://www.ebay.com/itm/134001629852?epid=8024885378&hash=item1f331e9a9c:g:yXcAAOSwC0Fh6xQA\n",
      "Unlocked LG V35 ThinQ 64GB LM-V350AWM GSM World Phone Black (Read Description): 1 bid , https://www.ebay.com/itm/154812003108?epid=5020317830&hash=item240b83b324:g:kAsAAOSwAa9hzNCj\n",
      "LG WING 5G - 256GB - Aurora Gray AT&T Smartphone please read description: 2 bids , https://www.ebay.com/itm/384693835834?epid=21044008363&hash=item59918a183a:g:eGcAAOSwigph3dHu\n",
      "Unlocked LG K40 LM-X420A 16GB 4G LTE Black AT&T Phone (Read Description): 24 bids , https://www.ebay.com/itm/154805587067?hash=item240b21cc7b:g:OhYAAOSwZf9h6vj0\n",
      "LG Stylo 4 32GB Black TRACFONE 6.5” Screen,   Android 4G LTE Smartphone GREAT: 0 bids , https://www.ebay.com/itm/294761809112?hash=item44a12c44d8:g:4rgAAOSwtadh6uoF\n",
      "LG Stylo 6 LMQ730 - 64GB - White - METROPCS / T-Mobile  Fully Reset: 2 bids , https://www.ebay.com/itm/144380830543?epid=9041728242&hash=item219dc4a34f:g:GykAAOSwV9Zh61N8\n",
      "LG K31 Silver (Unlocked) Spectrum Mobile: 0 bids , https://www.ebay.com/itm/125109274705?hash=item1d21180851:g:NHoAAOSwbn9h2kIp\n",
      "LG K40 LMX420 - 16GB - Gray (Unlocked) (Single SIM): 1 bid , https://www.ebay.com/itm/363698040711?epid=3033828463&hash=item54ae17af87:g:tooAAOSwWkteTjDy\n",
      "LG Stylo 6 LMQ730TM3 - 64GB - White - (Boost Mobile) (Single SIM) - *FUNCTIONAL*: 0 bids , https://www.ebay.com/itm/334303869540?epid=23038971988&hash=item4dd6103a64:g:dr4AAOSwf75hz6yU\n",
      "LG G8 ThinQ - 128GB -Red (T-Mobile) MINT CONDITION: 6 bids , https://www.ebay.com/itm/325010226886?epid=11031290778&hash=item4bac1e7ec6:g:k-IAAOSwnyZh6TRj\n",
      "LG Velvet 5G UW LMG900VM - 128GB - Aurora Gray (Verizon) : 8 bids , https://www.ebay.com/itm/224806265311?epid=24040581556&hash=item34577f61df:g:guIAAOSw7TRh7z~a\n",
      "LG V60 ThinQ 5G LM-V600VM - 128GB - Classy Blue (VERIZON LOCKED) (Single SIM): 23 bids , https://www.ebay.com/itm/304327280522?hash=item46db51c78a:g:9QIAAOSwje9htlPM\n",
      "LG G7 ThinQ LMG710VM - 64GB - Aurora Black (Verizon) FREE SHIPPING!!!: 14 bids , https://www.ebay.com/itm/275132637538?epid=5026769394&hash=item400f2ee162:g:3OsAAOSwe8ph7Lgr\n",
      "LG G8 ThinQ - 128GB lm-g820um PLATINUM GRAY UNLOCKED: 9 bids , https://www.ebay.com/itm/203803997502?epid=28031136652&hash=item2f73aa353e:g:V9UAAOSwhtFhrqIO\n",
      "LG G7 ThinQ - 64 GB LG-g710Pm SILVER UNLOCKED: 26 bids , https://www.ebay.com/itm/203797440720?hash=item2f734628d0:g:V9UAAOSwhtFhrqIO\n",
      "LG G8X ThinQ Dual Screen- 128GB - Aurora Black (Unlocked Sprint): 0 bids , https://www.ebay.com/itm/125107508260?hash=item1d20fd1424:g:eSoAAOSwoX9h3KUW\n",
      "LG Stylo 5 - Boost Mobile - White - Smartphone - WORKS GREAT!!!: 2 bids , https://www.ebay.com/itm/334303943836?epid=2318458792&hash=item4dd6115c9c:g:iI4AAOSw6plh24wq\n",
      "LG Velvet 5G 128GB Aurora Gray (T-Mobile UNLOCKED) Cell Phone LMG900TM NEW: 38 bids , https://www.ebay.com/itm/234385581067?epid=28041264968&hash=item369278240b:g:~dAAAOSwR0dh6IfQ\n",
      "Lot of 3 T Mobile Android Phones AS-IS(Motorola,LG) READ DESCRIPTION: 12 bids , https://www.ebay.com/itm/255347059208?hash=item3b73deea08:g:MxQAAOSwmDFh7Nnz\n",
      "LG G8 ThinQ, 128GB, Gray, Verizon Locked, Spot on screen, Good Cond. : GG390: 3 bids , https://www.ebay.com/itm/275127505303?epid=11031128194&hash=item400ee09197:g:OKEAAOSw69Zh6Gay\n",
      "LG V20 - VS995 CELL PHONE - USED APPROXIMATELY (1)  MONTH: 1 bid , https://www.ebay.com/itm/224805067202?epid=232041342&hash=item34576d19c2:g:zCkAAOSwLslh00uR\n",
      "LG V60 ThinQ 5G LMV600TM - 128GB - Classy Blue (T-Mobile) + Samsung  Watch : 30 bids , https://www.ebay.com/itm/224804946975?epid=21037603207&hash=item34576b441f:g:bRQAAOSw7eJh7d2g\n",
      "LG Aristo 3 Plus - LM-X220MB - 16GB - Black - (MetroPCS) - *FUNCTIONAL*: 3 bids , https://www.ebay.com/itm/334299329525?epid=15031649748&hash=item4dd5caf3f5:g:2scAAOSwDsVh4KRK\n",
      "LG G7 ThinQ G710ULM - 64GB - Matte Moroccan Blue (Google Fi) Used/functional: 0 bids , https://www.ebay.com/itm/255347024564?epid=14026794540&hash=item3b73de62b4:g:zZAAAOSwV9Zh7NBC\n",
      "LG VELVET 5G LM-G900UM 128GB 6.8 Inch Smartphone, Aurora Silver (AT&T): 4 bids , https://www.ebay.com/itm/175120608485?epid=23046862030&hash=item28c6006ce5:g:VckAAOSwsSRh5jEs\n",
      "LG V60 ThinQ 5G LMV600TM - 128GB - Classy Blue (T-Mobile) (Single SIM) with LG : 7 bids , https://www.ebay.com/itm/194756458213?epid=21037603207&hash=item2d5863b6e5:g:rxwAAOSwBNFh6YvO\n",
      "LG K31 Rebel LGL355DL - 32GB - Titan (TracFone) (Single SIM): 5 bids , https://www.ebay.com/itm/275123544868?epid=4044061492&hash=item400ea42324:g:gugAAOSwgmFh55Lz\n",
      "LG Velvet 5G LMG900UM1 128GB Aurora Gray AT&T Good Condition 5G Smartphone: 0 bids , https://www.ebay.com/itm/353876400233?epid=2310905831&hash=item5264ad5869:g:bNcAAOSw9cBh8IUT\n",
      "LG Stylo 5 - LMQ720V - 32GB - Gray - Verizon/Unlocked (W2): 5 bids , https://www.ebay.com/itm/384688239562?epid=23034131337&hash=item599134b3ca:g:eDQAAOSwCYBhrp0w\n",
      "LG K30 (2019) - 16GB - Black (Unlocked): 0 bids , https://www.ebay.com/itm/185263225588?epid=10034673698&hash=item2b228c7af4:g:dUsAAOSwVdph6KBm\n",
      "LG Stylo 6 LMQ730QM7 - 64GB Unlock- Holographic White (Unlocked) (Single SIM): 3 bids , https://www.ebay.com/itm/234389831811?epid=24040441675&hash=item3692b90083:g:bFQAAOSwUYph21UA\n",
      "LG G7 ThinQ LG-G710PM/G710ULM - 64GB - Unlocked: 1 bid , https://www.ebay.com/itm/275130366763?epid=8026800235&hash=item400f0c3b2b:g:Qm4AAOSwh0xh613M\n",
      "LG Terra flip phone VN-210 (Verizon): 0 bids , https://www.ebay.com/itm/384691788293?hash=item59916ada05:g:4Y8AAOSw3kVh6th3\n"
     ]
    }
   ],
   "source": [
    "my_dict={}  \n",
    "## Create an empty dictionary to store the output\n",
    "\n",
    "for i in range(1,11):\n",
    "    filename = \"ebay_lg_phone_\"+str(i) +\".html\" \n",
    "    ### read 10 files \n",
    "    \n",
    "    with open(filename, 'r', encoding='utf-8') as f:\n",
    "        webpage = BeautifulSoup(f.read(), 'html.parser') \n",
    "        ###open html files and parse the result\n",
    "    \n",
    "    items = webpage.find_all('div', attrs={'class': 's-item__wrapper clearfix'})\n",
    "    ### find all items which have the information we need\n",
    "    \n",
    "    for j in items:\n",
    "        a= j.find('span', attrs={'class': 's-item__bids s-item__bidCount'})   \n",
    "        ### identify whether the item has bids\n",
    "        if a is not None :    \n",
    "            ### if the item has bids then return the text \n",
    "            name=j.find('h3', attrs={'class': 's-item__title'}).text \n",
    "            ###return the item title\n",
    "            link=j.find('a', href=True)['href']  \n",
    "            ### Return the link of the accepted item\n",
    "            bid=j.find('span', attrs={'class': 's-item__bids s-item__bidCount'}).text \n",
    "            ###return the number of bids\n",
    "            my_dict[name] =[]   \n",
    "            my_dict[name].append(bid)  \n",
    "            ### Save item title as key and bids, link as the values into my dictionary\n",
    "            my_dict[name].append(link)\n",
    "\n",
    "### Print the results from my dict\n",
    "for key,value in my_dict.items():\n",
    "    print('{key}: {value0} , {value1}'.format(key = key, value0= value[0],value1= value[1]))"
   ]
  },
  {
   "cell_type": "markdown",
   "id": "7dbbc40f",
   "metadata": {},
   "source": [
    "# (Find Sponsored Items)"
   ]
  },
  {
   "cell_type": "markdown",
   "id": "de394bd4",
   "metadata": {},
   "source": [
    "Write a separate piece of code that loops through the pages you downloaded in (b) and \n",
    "opens and parses them into a Python or Java xxxxsoup-object. Next find the sponsored items on \n",
    "each search result page and print their URL to the screen"
   ]
  },
  {
   "cell_type": "code",
   "execution_count": 10,
   "id": "2edd9792",
   "metadata": {},
   "outputs": [
    {
     "name": "stdout",
     "output_type": "stream",
     "text": [
      "Motorola Moto G 4th Generation XT1625  Unlocked Smartphone 16GB 32GB 64GB: https://www.ebay.com/itm/373059993125?_trkparms=ispr%3D5&hash=item56dc1bbe25:g:PVEAAOSwlO5exaUb&amdata=enc%3AAQAGAAACYPYe5NmHp%252B2JMhMi7yxGiTJkPrKr5t53CooMSQt2orsSafTQYbq3L7RBVAMi0K9cwzQOHLVmL%252BQFwdLqBP3rha5fkYhYpbp8ZYOlSQYI%252BaGSeNSL8hL0GrPP4PmuyJxpXMKfitU%252FgbwdQJNcACJLBMq4fBKl6gSgAVmxmQyhIHSZPEe0Z6dmDw0f8nXnp48%252FNzyjnry1mncXruAaFtAApJoyeC0TNd1lgPu6uqc8gLNh1DmZE5ocyWMoqEIeUOb78QT4DqERMFCsxPtLEHgNHCnaqWtanOXJY%252Bb4U8nLZ3Iv83%252F3EcIy4oqte5Mnd7XsHzSSCSCE4xQDFU%252FVP4paCnF1wQnEXrzS1zCK8r5u2CKV3SWnThv%252BirNBw6%252BTE9aG78fYqL5pRhvDvGlCRVjwyxrZSQGPudbX4lhC800Jm9iprDiAU7%252BKDkaUhxyWlkQw80zz1BtX6Z9xh7CbkJ%252FTJQrHAoD7oo3zqyPaGjVzp8e7hhxbu5oXeE0l%252FkUSBC7FkvDKMxNO3hG6Nz2zYETgwf5NKIJo%252FVIDIeGF3q1WTtiRJezYPoi0nA4HUloee%252Fdx9LT3eBpix54ie6m72d7lapLPqdwcIFLttWKIbGVyCYRXVt5rAXkiNon6Bm5InnU%252BqX581T6Ie5cRpccOmfJfFwZU6RwD9mk7K%252BDf6IlU9aZdd01tGwP2RAxkIbm%252Ftiz9gDFa%252Bwiaz%252FJcGE8RymlGLlhu2f8zX8E7PWr7X3ZfnPGHcUiZ1DKTC74SHuOu19Ab%252F24yAYdhcKn1oUoYvgP40%252FSZdSvlSCVySOjpjcqUZl1d%7Cclp%3A2334524%7Ctkp%3ABlBMUOLskcDSXw\n",
      "LG Stylo 6 LMQ730 - 64GB - White - METROPCS / T-Mobile AND UNLOCKED: https://www.ebay.com/itm/324580470703?epid=9041728242&_trkparms=ispr%3D1&hash=item4b9280efaf:g:j~UAAOSwBthfmGF9&amdata=enc%3AAQAGAAACkPYe5NmHp%252B2JMhMi7yxGiTJkPrKr5t53CooMSQt2orsSvhAqMt0wg86xg8aAkgjQJFXmSOnZep%252FqmQgWzNjsU%252BcU8gAW1sqENdHQ1Vnjmgjnqje%252FintY9%252BfJulv9RTyQD48qVkep5rjdnGfxr%252FlJkffTJ4rFTw%252BKp4Qt46BXdRzP5Rh%252FEn0%252BHYTgkskveQhUzN4mNGpq%252Br%252FU9hP3c25fkvhTSLCAkLooAui7tXD9CD6jdwW2KW%252BSdvogXA75PElo24JpV%252BsHi%252B5dQ4GiwcOh%252FlBIX5OOSVIE3VwiuK8vQQmgR29D4MHO3gy9A%252FQwAEpMS4IUKksWMLUphgaE69vBv2Fh0f%252FbAjLM8SHbQf%252BlvvjnvLK32fcYZtZL%252Fd1tn7dU5ZQMJmk8Vb7s3q6B73cGjTTRGJc2jteTGJkXYXspnj4ex51dYA0rBn5QA8TaRMZYGpaoicKlne%252FwFanQtEH1Fnsh6ERz70lwFhW2GNB4awL9FD8RQK05c6fqPvm60qu1mOgjW52kleDBFA2bxH6K68LJhFJXStMVCjvNiIDjfstw3m%252FqFc5qL3A%252FnjazwyxYDAVoLTURcoiorS4ObGFmJSksqbU9PwyPJ%252BkwLL5yCL3KpRF7ln7gUJCF85LGt296oFGOcJq98UZwvBTgCDW%252BHrq3Cmrz2yQ9JRoAOa75HifSgCkRK9X29G10bshn4XUsuSwVP9KQLiRzza6a9NHpgCTX3QXt0quyL732sHqlYK0xUth5naj0BsG8A2rXrH3duOVa3ecMiExctkQ4cmq8UwkhOZQH3ZLIERnhcQLeLakOC5wRFGAXKcux0Pv4NmReixOXJj%252FWDpxgWcBY3Ea7TAWhX%252BLcVfYKLBr6U5dRccRV%7Cclp%3A2334524%7Ctkp%3ABFBM5OyRwNJf\n",
      "LG V60 ThinQ 5G LMV600TM T-Mobile Unlocked - 128GB Classy Blue T-Mobile UNLOCKED: https://www.ebay.com/itm/154810196855?epid=17037601713&_trkparms=ispr%3D1&hash=item240b682377:g:RDkAAOSwsyph7wTu&amdata=enc%3AAQAGAAACkPYe5NmHp%252B2JMhMi7yxGiTJkPrKr5t53CooMSQt2orsStEKTPzZMfQmny3knR97t0Nie6yEHNfOTBz%252B09vQF28LvAbvNC5Mew%252Bsnr7Tk1RWqATHLTtmxUIVtBj9hn9ZXmQyfsaGNNwWGugYNWxaDKRDDHbgYz%252FkwSxTFlh52uCgnApSm6pw5sbluDxgOiEeeEWssTzo2TndAJ46ugH09M2%252ByA2d%252FlmEf2NsePCNDtNYrx%252BPy0Vr3TZbGyRwc7HWTwukLJUUMTlDilHxboeZYnphM%252FIwgPrwF0KTCTMfWFt7IdSwiJ97WzP4YcDjuzfMrFo3jWf7QVMBkY8Bqjqpg%252FRZ6xsi9NSlnAv40RGpZgu4ifv4vrM2QLchJA9us9U8sYp7rs2xT6ojRtb3v2H1gtbM2P4BNIFfKb%252F1z2skUsuuFtSdCWTTHPTIEne2f0UjPNZGiYC%252B%252Fb5SUXA4jW7WyuvHA3fkCk70fSmmAtMtg8VwOiQWKnYhfOPynYLW6KpR4lredkoppFTUSjeNrV%252FBSN9leTerXlSALRtL07vt803Od5%252FXwax72xCUSz%252BEGeJTe1cGWIreSIAYZXU2HBYM1n4LMhXX%252BBMLY7jX%252FAE7iTz9R4YsJjJOpEO4QXczdGUmqBS9PdJ%252B%252FnFOWibTEWMlGai1uazAOKliEvGJw02BXTC9p%252FyUGrkOm3eJDQtXoGLL5keWOHEwHeJTA6FOL5%252BpVJiQTxuVm0wHH2B9jFadnxLxDhZZ6uiggIDU3BX7k0UNfLg71ioHgcjkv1Ex2Ecfzs%252FY%252Fq4aJxaB9O7TAkD2o7E1hA2gKjeSL2Ny8MxuasURHmB486Z03S8oMqTPsSHCtJr%252BuF6q8MDbv8kC5XK%252B%252BeDN8%7Cclp%3A2334524%7Ctkp%3ABFBMuJeXwNJf\n",
      "8/10 LG G7 ThinQ 64GB Platinum Gray  T-mobile Unlocked (T-mobile GSM Unlocked): https://www.ebay.com/itm/324595199006?epid=18020077299&_trkparms=ispr%3D1&hash=item4b9361ac1e:g:yssAAOSwxddfT-NJ&amdata=enc%3AAQAGAAACkPYe5NmHp%252B2JMhMi7yxGiTJkPrKr5t53CooMSQt2orsSvhAqMt0wg86xg8aAkgjQJMtGR%252BL3qjH9zcLjy%252BNikENtvQF%252BoWohm7w0Ll%252FW6Qzm%252BYZWG9nmkHrHycMXS8%252B4xDs2xwHYGdxm2povwuyWSFU7r99hUX0g25bmxjfvbpNcrtRVGQqZsb1%252FQww06TA0XrizqYR2XejlHMGNEoPWccMMMfUnV6ApyX40HEb6btXU3mZ690V61%252BLYsW%252Bd5nW0rTWQPT85rFX8lM3KyA3gmz27OdUjwv7IxoOcK2fPqpI9MWXFc0CwPsrPWvksandGvLJo3QlGiic0wGGrJde4AAiJh6P5SqmVSJwSyCCUp1b8g1RnYXiRMreW2XudxQnLNaF3Z1SRGy5GGXPPl8ntvtfEPejFPI8yn64jMwt203ZpKnwiNhaX7g0Pt22VEQCSVWf4nLFrQl%252BHA73qQJftFk6cGTQViDZbpfI%252FcsywWE4bJ%252F%252Bb8i2gJIrCwWGUtLo93C3oTX7Rnj9DISQEZcn%252F43L0PfgBV6cOhAda5DjgnUBtP4B316UjjrtKj%252BYCfBjlTHJLUVB%252BeXspJ2w14sN4YlbCHLIgKu4g%252B7KicANY%252FXGLbsiN5essTwDRwh1dSu55fEJb20jkvOTN5kZ5f1xj7O3o60ay%252FqJx8fBBed2N2EHhMI6AVbyZiGGkAR4J1is7mBkJsA4fpXFec%252F6lDnsFxwT%252FwscNm6Sy4tP0yPAl5M%252FJSywawpXI20bDxg1cd1NrHwo0eDJABHVqw21UamR5jFdPOZB8FIIkSue6NqY23E2TH5iqyikYRciZEuh0vjjh5LyQM2AnzEMB0awa4KvskQnQcnQzwRNs3rcfbC1LdhZw%7Cclp%3A2334524%7Ctkp%3ABFBM5OyRwNJf\n",
      "LG G7 ThinQ G710 Straight Talk TracFone Page Plus Verizon Unlocked - EXCELLENT: https://www.ebay.com/itm/255317133242?epid=5026769394&_trkparms=ispr%3D1&hash=item3b721647ba:g:-AMAAOSwHkhh1zTG&amdata=enc%3AAQAGAAACkPYe5NmHp%252B2JMhMi7yxGiTJkPrKr5t53CooMSQt2orsSg3Ye8yTWgOW7pmE1t838djfDrTpfxC98l6gQaIHzVJsweubbNABo%252BtT5cFtS7ysqTNNZnXXRbCVyLi4MDFHXgM1ssq0HZqqj1bXR5rhMztdl%252BfA9xXQCZB590XEuuOT4bjK02kmgLPmVR3jkfgf0XMJPxga3%252BT9QFal4ohVmFKFX7DztsLGfHj%252FiEKRBf3Mn5VAzmBR6Eb5UQ7A8BNFfSOVHKFdyBv8wyGLZ%252BZTte4uQFX7%252B%252FQ%252BmJhCz0vi2gnNSoAjXjqeNBfm17J1cPM2f9JLy8qqF%252BDbOEbxsZtxgJ6D0gfHqP9kvH6dIG5oAx9UK%252FrSTIhAGtiiYLd0z%252BPE3LS%252B0ddR2ZZHsPmFUjfX9F5vlquTzC5lZI2CTiXY5P3OTIinoS5%252BoNYQJB0Z45qgc%252BBkoHuWQBR3uOcgThlxSBt0NmvjvvgYV3RXIf1hMIObDlDmx38NXXd%252ByGlQcdwaXq21aO%252FBJGToC9XjTEMuqNtRp58X7XfR0%252FH%252F9aTk60GnlViuO994CgCUunQ94yCDLTaMnDAB25JUk6XgcYg2Js5dsO6CPAlzdiKy9qB4QP5zVEWzt42KJjur45hjRGG%252Fqdy%252FySpLv%252B1Se8BdpVGIrFfuAh%252FG0kY0ZibAnSZKb3FWUMrDM1kyN9Tv8J9sXOa%252BZ99RTvkOwZldy8QSdJzoR5UAisblp9I%252FkfuZvypnDHfuLhxKmtlO3v6OrH%252FUiL%252FQm31N%252FJPMVFIdKH%252B8PR0LuYdQqPnK6fQF2ee%252BT08sY5wUOFe7hpryR3cg2wrU6r%252F7dBEU9eke7pdMKKjGyVsHi6T%252B%252BuSLv5sD78GvKTpTfy0ZZ%7Cclp%3A2334524%7Ctkp%3ABFBM5OyRwNJf\n",
      "LG V50 ThinQ 5G - 128GB - Black (Verizon & Unlocked) Android LTE 7.5: https://www.ebay.com/itm/324688520346?epid=5034585681&_trkparms=ispr%3D1&hash=item4b98f1a49a:g:XZUAAOSwkThg03UC&amdata=enc%3AAQAGAAACkPYe5NmHp%252B2JMhMi7yxGiTJkPrKr5t53CooMSQt2orsSvhAqMt0wg86xg8aAkgjQJCIuxqmsxl2hma%252FY6NqZAFaIrLNWl6KgNMwI9nGVF7lX59jcYWSA6ShHZSMdb0kvI55SsKywXJvNgG8yMokbHH%252Fc%252BhE4SdV1f3nQgo49WTu92ZylrKlberThEfkxcHw2iZgBZNi2bPaqRZf1WPlWnY4OIdj4rS2ZqvrgWOGL26Vcg%252F4IvFaZgcs4Asgf7yr70xBEvWJxxrRjXeWaV5hG7IXpbM70MY9aiwxr9HljdkDwv74v2f3JCJ9oGtQFN3ueOdLiMemHpTD3WQ796rIqflQ%252B8HGK%252FujhAtds5zb0Wps9NrN7oeTXTI10476hAHl35ne%252BsbBHwTf1Ia9k7vcc6SwCPh3N4ywA%252BfNEiQU%252BcggjHMnoNkfVie%252F9FS%252FYrh0xChlit0rS6nPhqLumqJmS8IgQv%252BiHuagEAJsFAWNgTtjUxUR90H0BSA2lKpHVv%252FXP4BLeIvFjPbX%252B7nVYIQFBC0CMfMRBNv6uZaOyDJ%252FCi9unyKmOpbAJrteHD6Yzi%252BAALAilXvftk%252FZ1tyf8Q35ULahRu5NEi8ZokvavfmoRvmSz2zyGNeaRlViaeZjukjToVHxUtPRlwLCw%252F1Fz06YCJVOd22UOJgkii3KAhDl5%252FeZ6PoepHcf2ar9kTId0XZKFtzjbnJSx0z78YYCpkDWdVTGmus%252BnSswh6Wah2GulwF%252BcMtKBCIswtznH7PqQsA0j%252BIYwb5bSC1HOUGgBLaN5TWBjIqu3rBJ6X6moosyWVgo4ollgF%252B6D%252BF5pjcwdyYmoB4A4UD6bzJ5X6j1YnoUjIwIyhXWbvLyYNYMYKDPIQCYy%7Cclp%3A2334524%7Ctkp%3ABFBM5OyRwNJf\n",
      "LG G8X - Factory Unlocked - 128GB - Black - Android - Smartphone - Very Good: https://www.ebay.com/itm/125104945109?epid=22035385565&_trkparms=ispr%3D1&hash=item1d20d5f7d5:g:j74AAOSwDtRhxLdL&amdata=enc%3AAQAGAAACkPYe5NmHp%252B2JMhMi7yxGiTJkPrKr5t53CooMSQt2orsSxXDXcCydCuSj2Tq2S%252F3GnoN1KkU%252FKzRBPP0H%252BeJnrZVUSGtEy%252Bnx2WCn%252F7K8VYQDiQUgKUxMpRCBfIKWyyWa4Zt%252FBcRG9pxx%252BfACuMTePOWnUDkyNKkNNGT%252FjwXa79lxIUL%252BdegZTh%252FVz%252Fqdh3x0PNtQb6KQrUD3ASi3DHeuYtVxw5LVikA8KkIDoUirSo4I%252Bi5cL0QJETBjK3JbtkNNzK6vtkOEj9biQCC11syh1ISHyhhdpIwtYLM6IH%252BkYsQxJKpMJreBjkWC5osjLDkxnAi5HDqfrpXhmNW0Vyp7aSC0nSvakLEbVu1g0fvGzjTF%252B6wvxv5t3yq7hGBInIJk24S%252FP9QN6WdmU8NIdZu4Z4yJcCnMZWlbNKB5OKGtfshML6HjbI416QBnSoGvvnm9fM4XgdY1gXVORFFs5XyWEgv7EqaLjzLgoieAZ6UUNQ2BV0mGktiu5DcrCIKvQp%252F4QzVLNrmD40ikyfEcypzoa8jpTxGwDWPR7ZZpusiz9kdQcvYx7g9zbl4DP7Oi8XcfAHuQX3g3QeHXJQcKJ%252BNOfQ%252B5H%252BK8XpnVcak1T7WwSTazoEimVZZ0%252FBIfm7nfLGM%252FUm4ePtpANqIcYioTN%252Bj%252FmKZtezR%252FrMRvyPqz%252BvI7H791FBKnu%252FnuARgmceqmaiGLdQBOQYLW3gbWyfKSR%252Bi3e7ctTkyPbmWQ%252FRnjRBt1Aw3vTBAYt7f5B3fgNHoT%252Fm6ufgzmKxjAjEoTPgJXBBugFDO6r7M0VGSt9v6%252BqW3yj3d326eiZcwilyKW2QrlBc7PfciBZt9e0QK9Hc5MsHcGGTGTqNsAP68yELaB3heNk8vj%7Cclp%3A2334524%7Ctkp%3ABFBMppeTwNJf\n",
      "LG Velvet 5G LM-G900TM - 128GB - Aurora Gray (T-Mobile ONLY) : https://www.ebay.com/itm/324453566854?epid=28041264968&_trkparms=ispr%3D1&hash=item4b8af08986:g:KZEAAOSwz59fBcl9&amdata=enc%3AAQAGAAACkPYe5NmHp%252B2JMhMi7yxGiTJkPrKr5t53CooMSQt2orsSvhAqMt0wg86xg8aAkgjQJByA7yUDom16giR%252FQo8udx53Lz2%252BsaIkQD%252BtgpWr%252FW%252Fpmy9I2aCOSxyi%252FvLnI9KyEH4jpokkeulrZHEeN1P12%252FbQDzYk5Uw9kqR8NqU%252FurEwXCDqproaJ%252BlH3KL%252BEGs3cK9kFi8UFXFoWF8%252Bymh1d4SxCeMZcLcs%252FgLjxSQzsuGEJ48iLSUHQsZd8JQNURA82mIXxVDqcPQm7zP00UzK3TMfeFJChPmmuebzIR3BB72lIZOQSEjn5%252FXFmXv%252BaKi%252BDy%252F7FCZ2VsqQElrWppas5YtMDdpPhFbtpgwGFm1UJB00Y1Kv6NVeGnODoU3aV0xDZQqECF3%252F0N4YJZ%252BAkNidk%252BwZFhJSqhWJKXoOvZt%252Fme84vah5cCRjXtkoe1Ez44ve7XS2su6YMBFfTCy4MLGo7K%252B15G6VbUcxKIJR9vu%252FChhUOkU%252F%252Biy8R8slV%252BX1xXhg5oPUvtAaAtfYRNoVs7svMw3XZg6bBwf89U2gOgq07Gi4fPVF2rPxJqT8X28Llf5sde2rdUjtHF6iCIzohIM1l0SE6Vk3grqfuyljDVau%252BihSPxtMg57Mh04ERYcqZ8C5l%252F9JnxsNKP1vLYxEL5liU2m5skbmsNvAORd1B8wfI1KUqaHdJIDx8CAPArHcV2j87UkWpigrrl6TjhO3hOgFn%252Bgn5Ko896baHhKmMWIofSR%252FPuXM7lvgwIiEKkZxYRo4emVRTyUNySITrQWoOuPGn%252BrG1eY5yS2gMKZOGeioUd2vxQ02%252FFH2tM6sZIdz%252FCYbShieNXT5QMG%252BRTs5pAh6N0Cv6LQm%252BuEmfxn71ica2TVu%7Cclp%3A2334524%7Ctkp%3ABFBMppeTwNJf\n",
      "LG G8X ThinQ LMG850U - 128GB - Aurora Black (AT&T + GSM Unlocked). New Inbox: https://www.ebay.com/itm/224375343972?epid=20036086944&_trkparms=ispr%3D1&hash=item343dd00b64:g:swIAAOSw~OFf80WJ&amdata=enc%3AAQAGAAACkPYe5NmHp%252B2JMhMi7yxGiTJkPrKr5t53CooMSQt2orsSvtkx670Z0mbyfWqmxLFLYWy97c5cZTbq4vYgHkFKwYz4nuNY13RvuQ8ZHEVvaXEsLXXECjpl5874tSYiElO6BA4YyLL6CZB0BpuuYAtDlWP1qHyFiu7II%252BMOao31nRAnFuoX3WpWSL9z%252BO0yt2KE4uK%252F0N3U4sxknTWZLlGimzM4FiJ7m9Wv4Xbzawt4cV12hohFPMYKYFdss3M%252FlGcoJhTSOpVsuZR21xTOXJO1hehf1YMQxRZwu8TunERBfQHHkMghU1qMfMD4wcnAmbIw1rppSLZTVXET9YU5gA6GRd38TN1Jbowu9aL6oUxsGRwZC6DH4Kj%252Byzo2n%252Be7L0%252B8g8QMrzuwf%252FtOmYPNP%252BlT%252Bs3sXillPvNxKxQu3ZlF%252FPVNBjZmyDtT2UM8ZFpoWpEBN5wx3d1r7ZGPro6BoLsqeWfZHUBKZnlD%252FbEeutG3bVCDWYFButnQE3O6bQapxVTDP6%252F9%252FtvUXzEh4ACRgrQXy8uQaFwUN1acfaAu5byvnpVTKOiVs3ycCijyYv6ozFNCC2zfz3ONsP%252F1os18i8PYY8r7i9hybNlw0sBKmh5WdefjazOTRSsZI4GpP5Wf3bJSbBvjRgrp9pVdJydvTjEj5G04JQy3IpLHxNZn4ED61oIqugVxODNKEwdy98m5LnskccYsmYA0XnKZewjMXwavkVISjG1aKraM2nA6kyNzm1Ma375SDcVGZsC77iuMvtzBdtYkPYVx%252B%252B9%252FwNVxfNGA4xyEHBLfQ33MkhN6sl6eRmNgLWKLHbloUFjgUUkb2O7X2lj8k8GI%252BBb7yII7XWSJToBt%252FdkhfZNsmIXJsd5Uk1Uf%7Cclp%3A2334524%7Ctkp%3ABFBMppeTwNJf\n",
      "LG V60 - 128GB - Factory Unlocked - Very Good Condition: https://www.ebay.com/itm/144375008602?epid=13047982778&_trkparms=ispr%3D1&hash=item219d6bcd5a:g:iwcAAOSwZClh5a8A&amdata=enc%3AAQAGAAACkPYe5NmHp%252B2JMhMi7yxGiTJkPrKr5t53CooMSQt2orsS9d9gBrkNbRQtRn8MVXnYkgAqz2HaoinJdTZ1WX2%252BvuybGLonSg%252BewgOPyNik93oqiyfg1W6Eb%252BqpG07Cj8llfjU85jENXTgy7bWLG3484N%252BArGwQyLcityUpthWWy9lq4ipWaeu3kGdhZ1px3Tjd3qFln57D4YPmTTXMubwCIzKIGzlBYAIujg%252FNPVSAYgr2km9%252B%252BCKHM07t2qyAgQlVJcMHUF1TmtiBdwrVpDXAZZJ0Ah5B1RNGmg7QcOGHG05vQJBgywLDLwSpcAUtmX%252F1gbdsNptWrX4bp%252F7WIdOE77IuabxlRpv2Qp4cLK%252FECqJzMFqUKDy0DmIAO6BmJoBOlSWd%252BEKMRvMglXlrgN2hiQ5pMJ5jfS2E8T7PVUQEUNLXXrPXjxEEP%252B%252BuihbehGmrPcCY2%252FAmiQmstUkqx9KmX9qdAq6QH8YkMP1wA8FdmFgDJeLO4dvGgVnszf1kRz%252BHrefNuDzJ0zOQPtDmIlqTGV2a1QSi3LYrxzoHCRExyR4%252BTnp54ZK3WZV3oVOHvD0nSUO54UgtdXqmeL%252Fa%252B79uMSbhah9bFJWLydKE6TcJBo%252F67VW3oKiMy1CF5xXhR%252FPW6ZynC%252FJeCCwHIv6vzdk2uo0PD7E%252BUo0CQQMmG3DEr1Hv5Et%252Fq3UmcSH%252BgfU04pDLEKu7xbRmjYFd3%252Bgkjkue67tVKPxUbFB3X8puYAUl1IpF89gqvuDrNDgg1yNeakQn6fjuLBepC2siYC9KTxovlG6e0dl18SrbX76kDZzrUeZpBm9909tZ4V7cFPXwcoRZUQw%252BBljR7B%252FhGz968j3LhsVZY3%252FSWoIvQExzFk4iy%252BK7%7Cclp%3A2334524%7Ctkp%3ABFBMppeTwNJf\n",
      "LG K92 5G LMK920AM1 - 128GB - Titan Gray (AT&T + Fully Unlocked ) Brand New: https://www.ebay.com/itm/224466209512?epid=14044065159&_trkparms=ispr%3D1&hash=item34433a8ae8:g:QhAAAOSwya9gpC1~&amdata=enc%3AAQAGAAACkPYe5NmHp%252B2JMhMi7yxGiTJkPrKr5t53CooMSQt2orsSvtkx670Z0mbyfWqmxLFLYea857ECaZBfPPScznRfyynHGI8oojmVaZJCl4NDFzY7kM0v%252FMIl5EapyxSJZ5PPQeprRU1j%252F7dK1X0SPdTBUGSFijLNbvfNHIJLqzAjSq%252FoXQoU2Z0zGIdnAdGXKxJtol1IuqBtbHXnv4ismBIE%252FbkW1JMtdFc7IXlN88dPNryEjof2JsFfgKutlit21CCtkEi%252BEpGwbWXpVmQlfKudNvSXTnDETB7q1QjsyHFqBssH3dilgF8eAheX3Uf1mCg9Bun%252BOt%252BppzxNFroK50X729%252FtV9AkRg%252B2z3xWDA7jDeJQDRtDvBifbTZTWJbSV5RkjzoOk6ytYdiISmfXpiGhwIQ3wEYLH3eKTsFim7%252F%252F9vLjnGFpn8KXVwROGi0J6OP2pi8fZd%252FZteCbXXd5t%252BFe9opJjOZxXqTOKw8S%252BptD%252BKjsK6azPcUKzhNLCOrO16MaIDw6AHm4vXeKXHDjvUmvl7cOitJ9z1Lgr1slnAjVy%252BUUgIG0OzyzxKpxd7NtvSpl49YY5iRWl922ZGaXCm3MYktmUoPV4HnUSWoTLZL69a%252BIkYa2TH3Y3YEw9Hyk60QBXtA3jNYeTgrKFWTRbf09C%252FAzbGntjwJa%252FstqwqmCmIFzqgwzgob%252BNhos%252FEkqk7KmkArVl%252FgAD3dr%252BmSzEWqco3bw3OWhtbL%252FgCZz7Lf35tdc%252Bz6TKmVaCzI1ms4PuBy0eVspgaxUiEcfXnD9TnqOM%252F5OyuS2EQdLNLxTR%252BNvAY8uSXFDavZ05hE1B9cYmqcyRPnr8YzD1uQDlRrkp8p0izEPOErl%252Bzn%252BW8Fkc3FLlMgE%7Cclp%3A2334524%7Ctkp%3ABFBMppeTwNJf\n",
      "LG G7 ThinQ G710 Straight Talk TracFone Page Plus Verizon Unlocked - VERY GOOD: https://www.ebay.com/itm/255325991454?epid=16024376042&_trkparms=ispr%3D1&hash=item3b729d721e:g:-AMAAOSwHkhh1zTG&amdata=enc%3AAQAGAAACkPYe5NmHp%252B2JMhMi7yxGiTJkPrKr5t53CooMSQt2orsSg3Ye8yTWgOW7pmE1t838diDykaprE1pdZB5%252BDQhjXruEO50vhdXx6VRsGNGN9zIcFv8AUWaHJF9S9fbOqivHs7l6M%252FiKv9XiJQvdYV%252BC2ymx6KO93eUkylmwZ5%252FyaMV3LGNNiWAOiZsDW%252FJ%252F2kbL%252FmIycJUcN5hW0KwJQ4hyQtNR5OmmOq2n4ritLToGwJOcV%252BvELzsXlUnRYa4oRaKJE9UrhNSIHHirg8V%252FD8Q%252FyLcpOT5LciT6Y115AJseBNLvS8RskshEz7PF%252FMfNH61aakLFnXhRvumGYEz1uVCWNK7mFK2YyAIoynB4SetTB5joNp2Fdot%252FX4LZGnSZNO4WjiAhZ8d24mBEITclRGQpFqHdUjmO91LAN4ESYk1UTRXL4VCKZlqBNWU9kiamdY3gIOI5b7ay54O%252BF4IziFoyObaWtaou8gSlKxJYzSaUgaXWzIEMnMZKDhxhS5zKPrXlPeSrIjqvzl4sPeFSjoGutoRWqvP6pi4BsUNbfxqOQFhOWIFT2RdYuOdTSFb5zNUGIPTcNgm6W4q8vfggTxjWNU2M4GNGlIfJiP4%252FzzYBW3ynNPEZq7SNM5jDoikbmaMuzk35xzcZoOe7y24lIyP50F%252Bk05e1XujU2cdAVlFzF4ZFalJFbjNxX0KRq5XujkcsZJ%252FcTfJg83cDcRgz66ZTzT8zatFaT9uM4fyFkt1uWFuVG%252Bw%252BkDjKVxea10PD%252BUfFB6d543lCXcpKrmgJjFPVbNMrBvGhzhiA5suyDDWOPMlwt2dI4adqBR20bNGeyqF4dNx%252FMxvLjZzwtDB5u7QKFYcDDOGofkCtRuYTtT1YnzXB%7Cclp%3A2334524%7Ctkp%3ABFBMqJeTwNJf\n",
      "LG X venture H700 32GB -  Smooth Black (AT&T + UNLOCKED) Smartphone. NEW + Bonus: https://www.ebay.com/itm/224518023453?epid=24010472254&_trkparms=ispr%3D1&hash=item344651291d:g:lAYAAOSwOupg6Mij&amdata=enc%3AAQAGAAACkPYe5NmHp%252B2JMhMi7yxGiTJkPrKr5t53CooMSQt2orsSvtkx670Z0mbyfWqmxLFLYU6kp301vP49pAXpwo8LCWkhrFYhXnmuiDISG3ipR8bCGj0vZdiRUVrV8PdSkzK2n6E8bfwdmg3%252FsDOoBGnj4MB4PgKWnm17pq0hMum1br9zsVz6E0msF2K9y%252BqtMHKOwaYCZ2eGND1xYYDzhEPhgNTZxikb74hjL7brDs3uxl6Ss8A7h19d00SiBdEiT241QX0ovunRfRYMLO3THBr10Wgdqq0OoiTKXgT3O4lLhg4W%252FM7KWgHWFHrAJ3juPFn3pSgf3O2zkxkJZ%252BUURT4asjTJ%252FOH7j%252BDDsfoZpfWIKFQ3metMmXfamSv6aFZ%252FIRulwFOCNog%252BL7XO2CFFh7eHNCR%252Bbzf4xbouT8thZRw59SwIRSF11v%252BxukByKiclWiTgK9odWJWTriWj5gYYGEH3aOUx8h8mB7Aiyf2S5VtvZFhZVaxARd%252Fxp726cTO94Vl6QpQsO9f4MQVy6C6xC9KcpaQ3Afb%252F4H5O9EWgxRgFc1HW0pJHVUbf7Gws9prJwn0RUo1evicEdd6yyO4rtVQtuu7RSzavzPo3kQhzQbnbZGl6jwhpR2q8s0ksxgj9XH3Zxd0ziMLg91F7sJEyIeYRBKpbevyokGRI0ZE120KCufyVfi1XX2uvFYUwsSJeCHyaH%252FcO8YNQwpJ2bekhajv%252BO%252BsbOEGQA61IwQhm1B9qpvbO1Wc44Ap1aUvc4kDCia8d4unQi2ZkZRurDupW045GiRywfGPs3ullUFY6FENkOzl4SAXOCcWx9Do4JkYHMUHH7HUXHhR%252B2ZlLdIBUXaWnrTfkmpIKBQg1XxWjrSZCVYl%252F%7Cclp%3A2334524%7Ctkp%3ABFBM1sCUwNJf\n",
      "LG G7 ThinQ LMG710TM - 64GB - Platinum Grey (T-Mobile/Unlocked): https://www.ebay.com/itm/304327067390?epid=26040310771&_trkparms=ispr%3D1&hash=item46db4e86fe:g:xqsAAOSwi9Vh7DEj&amdata=enc%3AAQAGAAACkPYe5NmHp%252B2JMhMi7yxGiTJkPrKr5t53CooMSQt2orsSzaVbXtmGxqmWnpn8RLN2q6NUw%252FaaTjw0s94%252FExJ3AiTibl%252BAT%252Fg2mr4e3LEQ3tDqx%252BOIhcGq4uqZK2pLVZcaG6enfv%252BejOlsBDGesRQjUhfe8Z%252F7zIug1%252FpKHlqDDS1eQy1P1C0IU8i9luQItGBRl23qrfEwJHqYFRYu8yIe0HWEor66qDeNQw8x9uLrpCn8QxccY3f6Mqqrq1LnCIHTYk3vCBga45BafFCPmlUosJIOA43KBDlh5Inv28DPUyE4rAnSmj%252Bd%252B%252BcJcIrvglK%252BT4O09QGGyxVMOK6oI2e8CN%252FffgJEm4%252FjtgOAX4s0naIbhvKSwrRq%252BhBCDuQKg6BVgPCPgWijjPN0GXqhN%252BB%252BZcxHkx%252BKGKT5Sd%252BIHAsCsFa0GCkSeYXZUhIKKAiLJrJrnZyR6%252Fmo3QbgO6aLKsznf60K5%252BPt9aN7QGLGU4u5rdha1591HgzaU1vliu2gPFsYVtxOGHy99lvhKh1qSXh8ZWIzzWRQyQjOniaM%252FLCAKDM%252BOAh914gUaXQhhtfl%252FzrZRKxG65u0Q1WldAt4bWFhnFAlBgug367UamM1KBl02PxdjzDOcZRAo35kW%252FdNr8fAaB2V%252FGuHP%252BNWEb7ftJV%252FIHQPzgR2dnfLu2HU3jhsXsrd62dR9jtROzArzKvab0hsT14vhxbzbAm4wxY9efrw6jU9hsVO3clePUbo3za5WR1c51gSrZIQTAqoQAJNyr6ulonKcH3DaAxJFiK5u3FzJ2x7xVWlJ3joEstaNrMRKE1cVfG6lwm8OfOKUAwQL6cMWM5aAxHCxmdExGwLdcC2b17INMZBx1QQtUyJDlgeJGhW%7Cclp%3A2334524%7Ctkp%3ABFBM1sCUwNJf\n",
      "LG G7 - 64GB - Factory Unlocked - Smartphone - Very Good: https://www.ebay.com/itm/115068405899?epid=9026755125&_trkparms=ispr%3D1&hash=item1aca9c888b:g:IJYAAOSw4ORheunX&amdata=enc%3AAQAGAAACkPYe5NmHp%252B2JMhMi7yxGiTJkPrKr5t53CooMSQt2orsSR84A%252FGMxXIqJzFmDq6lDLr%252BIW%252BXecb91hM43BRqhlmcGnFxT%252FM4WvJd%252FYZy3Xe5dtk9scgVtLnsO26rLYBUTBXSfw73%252BNXLlzNhTTkAr8dWL30s5yvevVxdAcOefR1jCRAixSD5NfV%252BDyYMVDtsqxE87C8wW06%252BsStcWMeH2OUs%252F1tRqzVPGzcyxhTHBBiSSR9hrdfncIWMhhMD1VedZH3z8k9459XigxVdCDowUWRTR8ML%252FQxYvpPcLUoqrbRtyPj85%252BubK4ZTlN9%252FhEIbMxvb3DT%252BE27FiDjLcXbYfUEGeIZkbADPZat2TEXBe5NRosLR3yvDm0cM32VaZfbshXeKbMbbepZVZJEgxm7K%252BuFTbWVP5PdJugIjIGCvprnXeAKCoKG3c7ng7le9G87XXPjUSVklDBEjMx2Aw1fYULUg18VllIlhOzQqAHq5ImR5Y0V2Zz7upCGDTRfMwx%252BBK1qsUA%252FcgLBJ3ASCRGtKOcQttIVYfj8w2wJ6gQoIQjM3q6bCKUa1DK4o%252B3gouSUknrAyOSxHugodfai8XgCILqgLYcMD9uOm%252FAdUuEFyJhWOuDhjp2EUb%252BEZ7ISjeApElcUoC7ubwpGZ0GxH8lsblnTfqfJMa66jvXhHTgGjxD6OIicM3bL6Os6pQo7biqyVeC7N9HEH2VcaQz96SWdEAX%252BVp%252FCqEhWjKB6PyVssl5WfEUC8c7uIPajB9s8T7PAP%252BMWyLy0EIkf2l6UrunmX3FuyEjDza5luBeYz14cpUcsn2g19nJPL%252FNL9x%252BDt5osdVBhrhQTDK6r5JIAXqVoDW7dyyjp%252BXrqS9BxR8HEyLSR%252FC%7Cclp%3A2334524%7Ctkp%3ABFBMuJeXwNJf\n",
      "9/10 LG G7 ThinQ 64GB Raspberry Rose T-mobile Unlocked (T-mobile GSM Unlocked): https://www.ebay.com/itm/324595198392?epid=14026794578&_trkparms=ispr%3D1&hash=item4b9361a9b8:g:nXwAAOSwZdBfT-gC&amdata=enc%3AAQAGAAACkPYe5NmHp%252B2JMhMi7yxGiTJkPrKr5t53CooMSQt2orsSvhAqMt0wg86xg8aAkgjQJJvLNeW4Jp%252FN2bIvA%252FprDnWKeaPWYV1%252FlTwGH5lllzyiDJtjaPjG9O9zT9QQsl2YnUro5JDu0wdCdP3fhtuT5FEFHfYTPJIKQB5X2maeohpV4T9cjOe74hVkKPBt%252F7qwkW4oKufCXtyBUbtL0AUuYcY6oDuNJvTzB1Z4FFmCc7rOa53LLPv0X56NskGS2qkF2H%252FuJCkPj2bovuQwoMC3kg25eSLRH8%252BV0zWD16EQsM2XG7xFdOKDcR20SR%252B933fyMbLZJZ8PJFWRpV0%252BD6Y%252F6w1876KiuXlZJV2hTRSji4R3Q9GhA3LFmgIaGRM4CbscAR5B6LTlbe%252Fb2pWRf96g0TnMafMrJvubX4F6A9dIoEyFEYStw32HacgtPdY3bOSxSTjA7JPgZrg%252FtW09IN5Snouc6qPFTLwpadUmIft55b7gtAma8UkaWpn9Zn9YzNUBQYQ%252BnTr%252FC3FSJivKzOpJpIfhZf%252BVwvYe%252Fcd8uE7KHugJHdm4FxEoV4i64GO8hMLTzw8EZzKsk8jr1R6tZhzIaeibYtaI2BZTmUXf%252FS8uJYV9TblnQRY%252BFYImIdwAmkZy2IbXYfPInpzEF%252BuMberN4NwhCbk1oBsAFfDEMvwjZDpzz0dxwStzEi8KRTR9Zl5Gb342JuYWZq%252BZTtGY4wHVryQX9%252B3IH%252F%252FHSqoOj1I7ZJzkDUlExchbRBzuebuze3MCQFr%252B7L3OVvL6RZljXKQJVJ%252BdPmLU%252F8vOr0sdChZEF9cEvudZDxJiACXTE4a2qj3Vi0WcPBThlT3qaEnFFywpjFe%252FyFLhar0xH0i5R8ygOu8b%7Cclp%3A2334524%7Ctkp%3ABFBM1sCUwNJf\n",
      "Verizon Unlocked ⭐ LG G7 ThinQ ⭐ 64GB LMG710VM GSM Gray Black - Excellent!! ⭐: https://www.ebay.com/itm/224803310909?epid=19026520406&_trkparms=ispr%3D1&hash=item3457524d3d:g:dmkAAOSwHr9fK7DR&amdata=enc%3AAQAGAAACkPYe5NmHp%252B2JMhMi7yxGiTJkPrKr5t53CooMSQt2orsSvtkx670Z0mbyfWqmxLFLYUu20OQtxWnd730bS4HCqpsCqPJG72Vz8IK9wPXYTiiG8mneOhO%252BySHoOqFWVKvBPlABVxiMjjbHyZC%252FU9IGkcJIpuir4W5cwafthlxZfoLIDuHumiKVH5McgSbVuFbL08m%252BkodoOGDQMAwYRjJdGMQoHWu6jYw5kl2838Yo8o4FvI7zC2iXlb9u5SrMkimzpYwYn%252ByCe8bY5CDohQy37IKVfQcKL%252F%252Fgwcm1xv1pffVerXBIk7vYA%252FJW2r6zd%252Brx5IcsifnVeNz2uhbS%252BIXXTbqFdJ62SeFv83vBNM1sV%252Bj7M6Wep%252B19dShgPW3gO28dH0Xk%252Bu4exUFrV4QDGdCg1qynGbATKtj8bNy95dp1sPXP2iBA1mP4LOhCLNYdhMy8mixKvvPZP%252FsytUb4%252Bhr2PJEZFIPJANZxoYIq3MINcsn7j92ojvM24knGVz6Oy5EqTBqcAv7S1y4ZWb3AoaOQrQ3nfJqagHH6o%252FrKwGxugKpvhsRBMK%252BaUjJQViO2b5fEjvjsqxvaHDIzIW9eVF9KPgtYnmOlH%252BnI2Pe7MfQWWQKP5DzWuimPLWvn%252FQC2uRPfkG5ePw0MB2DjKGLVnnGURPGs%252FwqutjceaU%252FTrsIJPiddNXUV5e5Fb6fyqMiMwIMTllwB9jbrB98r%252FoqbxJ7V24KdGk1t6M%252Fm4j0skkhccpvqcmCPxTR4Cc6uLG7YAI3%252BtvhCb%252FwcTKuW6QdtnwAMM0zjEASKofoWo1b8%252BzCGoQbXl%252FTtbKC6Iyg9DqQwxczvQCO7QpkWdFpotFGi1SlQFEQeTHSx2RFdFNSXyywi5tho%7Cclp%3A2334524%7Ctkp%3ABFBM1sCUwNJf\n",
      "Unlocked LG Phoenix 5 4G LTE LM-K300AM AT&T 5.7in 13MP GSM Phone - Silver: https://www.ebay.com/itm/133790733196?epid=28039295372&_trkparms=ispr%3D1&hash=item1f268c938c:g:Mc8AAOSwEGxgy3lO&amdata=enc%3AAQAGAAACkPYe5NmHp%252B2JMhMi7yxGiTJkPrKr5t53CooMSQt2orsSHYXPhGXR5uguexJBeHwfgUxS1p%252B1AE7Ry3b5K3AeQq9mwJNLvJClkNdXYXaT4Rzv0UCVgZ5UOHHlaI40Znw6vyofQloiPw1USD5rZieQl%252BitE78GgtnidaYy%252F1g%252FlgYdlZcksK%252BFmv%252FuLI7G0jCKgRlevAB4B%252FLtxNryjAIT4%252BfDhKLp2ptR1sn4K%252FEngTTKXa4FIiDIuKUuyH0rK2dOZnT8unRTQT8BfpuePCPxOFvCRXzFeEkkmOYL%252FJVkKbxSyp%252BwYBc1%252BvibH7viidlvbwu0wGjmC2c2UJF3e0LvjflKEB8zVQimVVyOrJHESpMFTiD4X6BvXbEt0yuxvh9vnjGNAzVJFZewqDausgjkQb5a%252FXEEhpK8VKe2BqfxsiqzeFHaNC6FVwRTk%252BdM5%252FlsprA60DoLHK17MYwD3fS%252FR2VjPsETsG3%252FzgWPlmFeqyI7BTvYUaWZRAaeycVr5Hu2OZ1Q7U4dqzLQTyREIrFZgsbHgr5VfSvhwfec0eKBwAZ%252FN6IFLAGareKw591ZmQCQDoykiJqNXU8J2v6HFAtLB8y2wA%252BrSdBYP%252FN8NY8wSeFaK1ta%252BbuonrkWEvohNIrt%252FQBUUkg5ibkWAyVLdxHpyDyMYhV%252B9fOoOie7mkYlRv2IiirAVuYQIMB30WVAnEJQNNHZFd0Hs64VH72%252FConerUBTVLuYHLVVZK2yFYuEKP1YnVGoAxDS16CgmRf9dAlx6f4iMVDjSyGrL%252F38xjtB6zrQqtr6Pg%252BNDvJ%252Ff5ScPm3e9A0OnO5w1Icpp1JpcKlW9HV2kbDTl9UUav4l18QYFxkqXu9gFNx0C2XI3tRB631p%7Cclp%3A2334524%7Ctkp%3ABFBM1sCUwNJf\n",
      "LG Aristo 5 32GB  (T-Mobile Unlocked): https://www.ebay.com/itm/325005952920?_trkparms=ispr%3D1&hash=item4babdd4798:g:gT8AAOSwc4th6IPG&amdata=enc%3AAQAGAAACkPYe5NmHp%252B2JMhMi7yxGiTJkPrKr5t53CooMSQt2orsSvhAqMt0wg86xg8aAkgjQJNoCTWvOAcrM3lZadhY5hcCCa7yiMTvqRCA7gZTWt%252FONHF8esFXHPxWu5iT%252FRNAIlGxafCaU7XFizwiYtZqRCHIplyIl%252FzAXtkk28e5vOJ0fhtKp8qZt6H3Gh8NsvhvusEdKHZQ%252FMdPzVyJOQkxRNCR5eY4ulhJFe7MPXTM5nmgfIFLj1sMO0uKLjl102APGAGjIJHmfoV1bIMFMbA7JLaJ1cBEVm5yyVzwPNw9ZdOQkrbJkc24PZ7DS%252FiVUqkm33dG2yaYY6nZOWGRXDS%252BEYfwKm%252F0ZIWgNv95VvFwIyzVev7FJnUJrDaNXfrESIcDCBGHqXpUoJXbvQ4Rq2Z2lWPI3ZbZaSPjfmukwV%252BU3iD8MD%252B%252BIVKuRrnoJyZZCCdh5WZzpkWbUxO5HAxQ7x2YSKTTkJtjwwITBC%252BYAe6wWRm0uZxjX1JnCAx7j1I5M%252B6%252FDmdP%252FP1BrA6U7cuWnu%252FNMkA8MAYf4PLGbZpq3cKbZXwmu3Ug7zEVUL8%252FmOqVGkH%252BpDMrLeN0%252FuE%252FhoTAoCJiZWX9jY6XEAHTl92CYLeZtrrQzEspjK6hfzg43M2o5XAIXOXHWsnYKjppWX1YblpeubTUK4%252Bl8rS3XQ4cRSsZR9wx8ngFaZYeeSXNXCRMfw4FmdhVpiKWfLJ4ZU6wkyKRVLerIeJmnIhDDucKubBZ%252BlD5BO9GkliL8VnM%252BPRLdppQJ%252BXPFArGxaqexFAdD1mOYUZzAVp0VD7pZ5ibZYoctTVG463ive7B24dpCh69keXaZYY0VejE3tSYWtxjtdrDvSV283GC6CQFEYLTKiHr8PeAw%7Cclp%3A2334524%7Ctkp%3ABFBMhuyVwNJf\n",
      "LG G8 ThinQ - 128GB - Black  (Verizon & Unlocked): https://www.ebay.com/itm/324608809849?epid=25037919057&_trkparms=ispr%3D1&hash=item4b94315b79:g:Ra4AAOSwReZglEsL&amdata=enc%3AAQAGAAACkPYe5NmHp%252B2JMhMi7yxGiTJkPrKr5t53CooMSQt2orsSvhAqMt0wg86xg8aAkgjQJNX4exbqsjmvC59gukR8abyDVf1%252FsLCul22ugZYrKSHnUFCVDj3oRhParshrhF941kjpFoEbIQAXuWpyks4I0KLDnDah9adSzcU2KWLuSV8HjYlgPIfuxUkhLHOrelaZZMY6D9OWE59VntfZZ3ZUa9VIiVBALU%252FTbz0G8XwHSTQi8p7RWrU5304%252FSuyExbeBWcObpr43UJE9Rai6PAliQE%252FtSrx24Idm%252BSgnsicGRmWnM%252BTo0n2KvzUJZJzygmTx1VfwmPmRKsit381ccctndTgrEoBy4vqh3gzBKjPiieUif0hBFk2%252BuyFzQlKkEN5WJtI2xIGRRDV%252BXUf%252BPvjJMYjXoeT0P9DZe93yOVfrWVzJKzMdmBwRyhDFFDAHGDU%252FSUICR9jyHl3PaeqtREk%252BlFiJLPYqWHk4V8ZXJfYki%252FWIM6tBV6l7M94PtTLTR1WI8opMjXBKl4UIrmXwo0%252B77jM1OEPs1VZLWkQyHtCpv%252BnNVFuKEM%252BZ7vz19DkDPMl6vyxwlqoJuMmVtW5hrFVzrU9Uo%252FF8hI0hX4HmSEH7KGVxki9y34O1WMEvekIqvCoC1zl8oUPGPU5JecUBfJz1BCZuZpmNRSGqrvFCsjoyxG8dOUS1Lf%252FhSem2A%252FVgweWNDGC5mdn%252F0X%252FoXxhLiPoyJM4bmU9QDg%252BLc4u%252FlwjaOoaLKfY4FsZEsyqms%252FB44uU40tRqzI%252FFWnmdLS6KYfQ6UTFeppB7BZ83%252BxAkCCCS5hLbnvOYpDt%252FIOyvBKVbphmFmq%252BRFTrLix9bHO8UsiTTZ4jYxQ29ZVng0li%252BPMGFfotU%7Cclp%3A2334524%7Ctkp%3ABFBMhuyVwNJf\n",
      "LG G8 - 128GB - Factory Unlocked - AT&T / T-Mobile - Android - Smartphone - Good: https://www.ebay.com/itm/144285490465?_trkparms=ispr%3D1&hash=item219815dd21:g:cZYAAOSwpLhh6GH4&amdata=enc%3AAQAGAAACkPYe5NmHp%252B2JMhMi7yxGiTJkPrKr5t53CooMSQt2orsS9d9gBrkNbRQtRn8MVXnYkqkrvhqlCGoGlDqr3QlLu6o%252FdNezR%252B%252BSc%252FcAUcg%252Fp4Gm%252BG4kJt%252FjPM8cXy2H2hHLaIh%252Bl7ItipVlxGNEqCO8lv05sW1EqE98dJNl8wqR4ZNL3zG0ak%252BNyIpwfWdD2kIyJoNSgCx9EvQYH647RY%252Ba9Rt04q%252FKo1vQ0XQBFADpQdgjenbhaMzDg%252F49h4EtB9XEL2skHLl4NASPVFsXPqjnJtTN3M7mhV8M0V41ln99dv8G1tTf6RxVzJSq4unEbNIVfdI8MkVlPkaprNd0XL2BEP%252FNFSU6ByTiDt0I3EMgkujS0XfRBbcyhZ03pHZWJtNwDmHY4%252FZ5Zrw8DZVMIrjusU9LFNHKZT%252F%252FUi2SjqMh4tHxNaRth%252BwEGUGucXUTeS1jvYnRuCFp8R1aLgZfpH2LKKIJSJQKA%252BrhWnULtSrjRJITybq26XJl%252FhxyNlZm0zr5yy9smdIGTNOcrxCuqHvbADXIoWoBfQ6Mgxr3uGfQDNNW6oX%252FepUo7NWROrhkrfBaUIbansuNRZBvzKiLP2IPr6%252B7d7687LZJ3KGJrKVI8alfe5GlxNEckaddPNs9nO%252FsUhKLihr7Hu4xkinOzsa2ZgW4x4FCziSKajk7i7Fl0%252BuKcZXAOWn08damX8drA4YV9a49H6gI0MZFT8DP%252F3OcJ7Q316N1CW0VcHo25mNXtkKWYfoQ8kCA11AzuJ22Py3gX5pvGJ7gTvOziTeeWSTY0kzdbroH53EKl2tUiWwHcnox652x71jDLbnPzjiNFTnfbPJ42Cgfp5rCTRVIOWQqRXAXp8%252BlXtl2i9YXfmo1lm8D%7Cclp%3A2334524%7Ctkp%3ABFBMhuyVwNJf\n",
      "LG V40 ThinQ - Factory Unlocked - AT&T / T-Mobile - 64GB - Android - Smartphone: https://www.ebay.com/itm/115110261055?epid=14036980224&_trkparms=ispr%3D1&hash=item1acd1b313f:g:k-0AAOSwsnZgLuLh&amdata=enc%3AAQAGAAACkPYe5NmHp%252B2JMhMi7yxGiTJkPrKr5t53CooMSQt2orsSR84A%252FGMxXIqJzFmDq6lDLrjKCl%252BAAmzZKRkJyo7%252FW9P6J1r2RV8w20FS8rSUf3NfyYJ%252BiaKAkzhV4UDSTQoFo0aoujysZbdN466edTD04LyKDieRfI2NtnUFKiEdW%252FFbKAPEiWIlw4zaPT401dmBSxzYeSs9yuaqC%252Fe8K%252FDg4YH2IGlb%252BkWlY2%252BFOZqxk1QA7Rwt93gigXZ1u%252B49pcV3bv%252BheyRrQjsz1KM3L%252BuE%252BRR4WyaRhXp1N9fNHYLIn7MRU8SKbioaNUC9cZoa%252FtFFI%252FtV4nqkRoodBGhxcfSPQnEy%252BR7pQro8ncohxnzHYpPeVrs0h1zETswgl%252FBxY4Fh5aQiGI0nJz%252Fyel%252F1vSDh8pszlETUNlXV0vYsrZ4m8cBAp0lgXXXxD7UGv0vxmjY%252BFDXGdK2dzv8OS9AE5G%252BlgqcD%252FsrI%252B1DyJecYdZPKwK5FGgClbNUA22bQIPX3YfglNKpreS4azQhwATu2dS0KVfxoTT2pDoKyDBOn8Noo7zufSGk%252Fg00yLWNMFSiyysl3YovSYztxIVwHWZ4HFzArhGDI2GGEuWCjR4hR99NDhlxXxFuhidAYXp9m7pgQ3%252FLCo0yNQJixyX0xARTtU%252B4qmiRy9TQInVRdcVZoQni%252FfYov1g5Xx0ZQHGVVKK0SuuOrTo1OiqaN%252BRamgm4H%252FP1lXrJX2PwjPIMXYO4IOfQARwyQ%252FT12pAC78FZwSvdnUI%252BfWGWPggdoCdh6D8UHk1L4g%252FvYg7OZAh6Z%252FVnQgW38loFkPC9CkqugGztLAEPiDbQjMJVwU6KxzXJ4QIwgbAPuvNbJLQijWWsQMh2SmHCWzOox%7Cclp%3A2334524%7Ctkp%3ABFBMhuyVwNJf\n",
      "9/10 LG G7 ThinQ 64GB Platinum Gray  T-mobile Unlocked (T-mobile GSM Unlocked): https://www.ebay.com/itm/324595198140?epid=18020077299&_trkparms=ispr%3D1&hash=item4b9361a8bc:g:yssAAOSwxddfT-NJ&amdata=enc%3AAQAGAAACkPYe5NmHp%252B2JMhMi7yxGiTJkPrKr5t53CooMSQt2orsSvhAqMt0wg86xg8aAkgjQJMaCz1aH%252F9GoXmxlVMbmNDsKMYuWVFcgWvpwCvg2NKlSslQMEuHKwMKsz4seuMGpRTXaia%252BpVh8HZvgiUGkWsWrrlQWRG70V8R3onVfCqCX9c%252FDn5TC1m184d5ZzQdDky2gs0v58oxZ7NZD7CVsFjg1sEnf%252FKrI%252BYp0lfdYu3h4Hvk36Jyq9%252FYo1lnZm27ST5AywBKP%252Bx7bZ3UUc8pJNbA%252BI5Q%252BokBLCEWBEKYMKHzIBcg%252FDtpzRf7ZlOzKIq9DdAGm73Ta4dpdTp7KVTdxS1szYDKHZ6deFB1MDsr78XoNX%252BS0F2UCCmV156zl68zUzk6z6SiN8a3d89LWlfGvvXc%252BuD48xlLkb4TBqj7zPDhHpj9gBUVzA0n6Thnq6uuir82SKMFljt7qPZbJtBGqCK4EZLT5UU38TqvyZ7RPEsO3z%252BJrtGBECJp%252FMgG8IyKk%252BOZEGkZaJGofvfMJ65I83vwq4RGj%252BvJmmVyszkPb5MRWxa%252Fg33B6YtCw6AYK2baiqG5mBMXyvzDxIDb7225XEOpkRdcIvsNpeeFFf9lx5IZklpJfRJVV3It0A%252F9NvTv74CLc6O%252BNsQmH7tNkqmIV8kfWZE4rbuCDx94u2hkPWWiuxW9gVi9DBhGv7GTp5EzG8UmBnIMgnt%252BGvT02vVKrueSQ2Oq2u%252FEYdAj%252BNAhWiIKpcPtSqA7twJLidFU0DhevRuaAj0t%252FpP4ka2GGrdeKqkHKDUJymsmRx6G4Q4IkmjrLGbz8Y%252B0JElRxGS1qL1jSvsnVh%252B4edXGhSkJ%252Fc3zC%252FQWe7wRPTUUHrBxhDY2p8dSuU%7Cclp%3A2334524%7Ctkp%3ABFBMiOyVwNJf\n",
      "LG WING 5G LMF100V- 256GB - Gray ( T-Mobile Unlocked ) A Very Good : https://www.ebay.com/itm/175000048924?_trkparms=ispr%3D1&hash=item28bed0d51c:g:xv0AAOSw-39f9Usy&amdata=enc%3AAQAGAAACkPYe5NmHp%252B2JMhMi7yxGiTJkPrKr5t53CooMSQt2orsSDAeS9EQtjPGVfKXTxF0%252Bjhn8WWKYxCnEDqMLpmxp78XB6iR0BqbFy1QlRbAhYFHJKcWPmNfXfJXJ8OTQp%252BImj17JZvLiGaonISSF%252BS3SD0ePo%252ByZnP6vfGxZK2Pe7IjYUWYTC6jNrzETMaz6lT9USmXSCuDE3Q2hQdfvSlcfTfesiaHTmEIj0Dlzbj8gTgRukP6CIiG%252B%252BEDMDlO5pV6jlALNuXELMY9LvOUutAwvB%252BjzuzNnjWHB5v1oYCTlD8%252FqOgOyfSRwCh7HfiUUgPg%252Fe4ILep9OZr%252BRiWdbb4A6lcK%252FUFz2eeifmuDIew%252FZs%252BZ4p%252Fy8Vvb9pHxKejOCEhWM95ft0z5KSNxdNEs%252BK9%252FLHBu2hEqwkuxaTsxNkYUvzBgjpLcbLa6aORdx0qk0VTKdOiF4cWnu0MHpo1%252BikqYXhVrL4riGY2ztcyFKn8%252Fq4zBSkrzg%252Bh0Z4z5X30rc%252FIQYQC5UIWsif82PzlQAH%252FWFpAZKKxtIqlRKjTT%252Bq7NoztmphBXYL9Veb88E2dYhhmfHcNnvrfNWIRlU4bpgcBfBbJHzmg2ZXrcp%252F55w%252Bl9TeppoY6QbvjYUCV2auBLVK5pcHoE0k8Xeq9yESScborrDQ4IRSOWy8vfRr6vr2lFvc5i3oRM%252BXiM%252FKbHCJ%252FzhplGpF7HxVXA6nujpnT0Z7wy65gYXQY%252BufljG6t%252B9dymDb3cz330sLuID0g4A%252BkqmL1u9luT9F5kl8wsQ7V8aSeffj9Yiyf6iYiPb7lZYlxXDYxz6TWwXLTx%252BeSPcHDBQnn0%252Bm5AHVU2vUMTuLquQ38%252FGJWevtMIA0Ql9O6yTDPC2%252Bx4l%7Cclp%3A2334524%7Ctkp%3ABFBMuJeXwNJf\n",
      "LG Velvet 5G - LM-G900VMP - 128GB - Verizon + GSM Unlocked - 8.5/10: https://www.ebay.com/itm/324563182826?_trkparms=ispr%3D1&hash=item4b917924ea:g:NfgAAOSw1btgQnyY&amdata=enc%3AAQAGAAACkPYe5NmHp%252B2JMhMi7yxGiTJkPrKr5t53CooMSQt2orsSvhAqMt0wg86xg8aAkgjQJIiXPxoFgcweYjMgNeCam55K4H2hDgoTnGHuttkn7DZy3TF%252F%252BOI6Am0YJjl1jOz%252FgFFBEl7HHdJl%252B10Dm5gn%252FgCwZqaF%252BJqbuBboxAsxZDy27axKu8hx4KhAdyjzlbYwvlvqWxgDfxQQWjjNDeW%252B9ycSsAYrmooM5iYPqT6vzoob7nV%252FQWHge90JNcWoVQMj0XqvCnpqbLOd7Jm2f3HIrL%252FZmIYq1IyfqycUr5xXZr70WFWXdoVyrFKF6Hgs7SjDfKi9gg0YzQLRyRHMAD7YfVnuNkg3xGE34hAY0OGwat90L95DRAdnB4cgb7AU0gXZZnoRc5en%252FbdpXRjs5W%252F4e9B%252FlC7bqOjjuF5IR7%252F2V2T1Ovnw95SpNrOxK%252BaD2FWQS17rU9xbgxacBBXEhEiEzHIcF%252BE%252BtzY%252FHuG0ACj%252FH3JKVjWn0LlbW%252Fpy%252FTxS1XdR6OcJ4IzIGFSr6yn6mDroGTdwkK%252Bujv9RSViCNJ7eOeJ54Sjf9kO6Pvp5mfcaKuMZT2JlrpB%252FVOf51H1te%252F7m7SbhY9CXpzRN8ldptoMhlJ2VKaxP0TWhyWcvsGdC9LwcasZC0LJA0%252BtscoWuTrVsJirQdsebhqIaANAI%252BhcPLKO0sB11HVckIxAhbkcoJWZIAbk36ZLp3kiSn2uNC1Ate0ef1n%252F8xLvto2HmQMHAVraEqd68KA1%252Fr7caNX8mQ5va2lx9lqTZM7r9Dq5Hp95ltQnlBR6isNyRtbULgjeTEg2FakymtUbSAmAF5NfSldNoRgpSUDEmAB5FdTV9d8GHj6ccdzim1pF%252BB%252Fc%252FJEa5NP4h%7Cclp%3A2334524%7Ctkp%3ABFBMuJeXwNJf\n",
      "LG G8X ThinQ LMG850UM9 128GB Black (Sprint) GSM Unlocked A Very Good : https://www.ebay.com/itm/175001601091?epid=22035385565&_trkparms=ispr%3D1&hash=item28bee88443:g:5ZsAAOSwDuleEg3R&amdata=enc%3AAQAGAAACkPYe5NmHp%252B2JMhMi7yxGiTJkPrKr5t53CooMSQt2orsSDAeS9EQtjPGVfKXTxF0%252BjqQXFz6ssIhSuLWfIwL5mpE1I3No4SJKGTbJQzVSxYrDPxEvan4w32nCw34qWPiH7JpHZep3Vl%252BkUbPk%252FjnFX11uKdUhMQW3awhFvQBh%252B2qf4PIW3fYJ8OjmWqoWIdUs495eyJFR2IK3lpVSu24eUL8EkFSRMLKAR9CG1eAN%252Bgox8uhyc1EMRbmVCGEY%252B3hY84UgSw4Y9a1M%252Fkk%252B2Ra0PZmYFCPc5qmR6nbHrkg3sWqnKxLzh4UNcSfgPCohf45Q8jpkIUtSYHNrP7RhUsPahM9%252FjtuyBbxCgR0ggpSxzgjwxA7ZQEiBvkYexHfIGbkCR1CD20HLPHyp167PQuSBa%252F02keujmdRNCJBH0Y227fhM6HNNE3N3XgUkQfmm1Ct%252BLHxPFAOkSkbwxHlpT9Y8%252BqHo7XJic%252FiHRu5x3to2ASdCA3qvaD0%252B5GvCtUmF55y2YiaFctTb%252BUzjsiwFp%252Fnx1rvA%252FIHxSAi77ZX3vZv0uNw1u%252BTxSJw3QNfrBOQCJnLVYdZafkpNiseIaeyIOnV0%252FrMczOoUMj4pONCUfPXF9GWCDLH0mxwoIC2VaALKZthnhsQPhZSK3JLmQd9OKwN9bn%252FhY5nbuQ%252FPdrFl5M6X%252BR86Il3F7cLQSZcT0hPhM2OzJroZi%252Fo3l50IjGFo73BXWMvnH2h89WWk4A66ezpzPkU3WqkpXK%252BRwMCgVYvbfckd4IjV%252FjU2VUEdloddoDFWVEo%252FPa3tIjROTbtPNTZkt%252BjTZYYtu8bimrRLapMug4f6FbbgB0z5e0qTWySWAcMxdZet%252BKJLxaktXgne%252BAj3%252FBwN%7Cclp%3A2334524%7Ctkp%3ABFBMuJeXwNJf\n",
      "LG V60 ThinQ 5G - 128GB - White - Factory Unlocked - Smartphone: https://www.ebay.com/itm/125054035059?_trkparms=ispr%3D1&hash=item1d1dcd2473:g:w1IAAOSwYL5h01Nf&amdata=enc%3AAQAGAAACkPYe5NmHp%252B2JMhMi7yxGiTJkPrKr5t53CooMSQt2orsSxXDXcCydCuSj2Tq2S%252F3GnkVEuARgZnFSIiqQO9LpMOgB50hTfO61V1JbPgcuz34MdGrYkvhDuIHMVa5K%252BlpmQfb9zP5%252B1xxw4UL%252BM3ZoyV0Cegd1LZnxQ%252FAXTWUxwK4O1xwiYbwEM7Ygy7NCP5PvGK8JoKk79DBIlih7AvZ8w3iM4ir616Pi7KKz3B74hx8RPv%252FVS9WFCxKAnDWMg3eoIZbyUG2kiai82aPWi3BqgPedzCAmHgzugPc3p6qQNJ8DHFA%252FAI3idjvezKkth2FvxWQIUNcc82TQZo2wRUNq2lMpL5WDogdiZr7ExJLq6l9rRunMbQ3PJyK%252BA5ewCtP4%252BjKWXjzMPa8pRkFveGOcUXarVU0Bl21t6l1SkrzCREJ2OgwEaotMsqjFqQw0%252BfcJ%252BpiL9SWPVwS6iVfQfONfy0R8ZZUnBen7zMEGZrwwcCMYk2Fxr4sJ7vVyBpfhPt0dGGoSWCdv%252BEfPt9MxUOzVrsuWrbMukVjgPC2agUjDc8Nx3BLzetOIxPJTq5IZYQSmcnnQ0kBSri3%252FZcQIFMe2WyZ5XLBnWoJS2r5IipKpXzgIIhknYrlTJ1GC3IYfX0Q3V0JGuzbMm0e0B3k1mVugPriZe6YGZcXXYvi71zLTKX1VdzhCuHf5%252BGhdldMcPxURlwZXzfMbZBOJ4ltxtWOmljh%252Fmg0fNgfPFXZ%252B127Ojr%252Bjbx8kHfyqT%252B%252BEGMaW6%252B7m3OwxlRTrXXQVncN1hc3biVQ6ltDZ6IXVINIIRBIllTZ0GeLiiFFGYO1H0o7PgbD2z9t4sh0uj%252FSa20rIWJZoJ2guT3yMOZwyGHbuSSYbaHMb%7Cclp%3A2334524%7Ctkp%3ABFBMuJeXwNJf\n",
      "LG G8 ThinQ  T-Mobile - 128GB - Black - GSM - T-mobile ONLY 9/10: https://www.ebay.com/itm/324643851920?epid=28036133306&_trkparms=ispr%3D1&hash=item4b96480e90:g:8dMAAOSwvyxewRum&amdata=enc%3AAQAGAAACkPYe5NmHp%252B2JMhMi7yxGiTJkPrKr5t53CooMSQt2orsSvhAqMt0wg86xg8aAkgjQJHStcyczbOvpQ1kgsVS2uKQQXt7bPS0eO15F8IUN9hxseAyON07ZLvAZyxDvsOhLpFfaMotL2ha6ap7MD4Y0ZqkS6sPpAiPArGomL%252FaNtliBLPbhzCiG8P5K0Rk5ut5TiO9TtzLzNikeqm%252B6a%252BjKav589GywPhWqcIAkUwVCJtYCW2tvzaSZdovk%252BEBCriw0pwg7vV66xm52sNsDd7G74pMWLpdi50%252BCfD4RZlr5e85CS3bzV3UXZ9C%252FRo%252BL6gRldsNDsVlJPu22R3Frda6noDdCEwTlJ0yL7IJN705HIIObPk9kbAK%252Ba0b3g9kZHM%252BNf9fjr58D0A64pp4yOA34WebX7a9CPSqwvYI5cP%252FH181WAHwvTV7u0zHuEEvJ12s2vtLuyBQvmMDLuLpYmAYEUjSBTxseIrphmgksRgdF%252BQa%252BUqmX7hIB3GT7yCoMfftjXwI7UHW4%252B%252BK99%252FtaPwqVorA4HJvDUr1TDd2oGUeiGNAGp9ggF9fNi%252F%252BP94SvUOYs7VrSqLy%252B%252F5tMVBDZMl9cbVYmmSPoxhVVqAICSFlABg%252FzxgMwHeCFuAocDLuLzrFsP4CXbIeiX%252FXPunsHslbmA6k9HFd1Fd6BEI5nHQaItvTcD2d0nb%252Foyu54WWAv1%252B7IDWa7SlUJyioDftXJYZtx8xcoUuhHz2C3wQ3a2sggza1wtzgQWpufkIDs2ZeFOovqK0T7UPFFg6mSmhPz3nhv7sHGCS31Kb7ROeu%252FQxjqAxmGRQrALyx4yG3mk4ORRzmJuig676zZ5Jo2DuaQSYzoA1zq4CrgHtuyFt6NNvI0Pj4T%7Cclp%3A2334524%7Ctkp%3ABFBM7vmZwNJf\n",
      "LG G8 Thinq - 128GB - Aurora Black (GSM Unlocked) - BRAND NEW: https://www.ebay.com/itm/224773347247?epid=28034145581&_trkparms=ispr%3D1&hash=item34558917af:g:S-kAAOSwShlh1L0P&amdata=enc%3AAQAGAAACkPYe5NmHp%252B2JMhMi7yxGiTJkPrKr5t53CooMSQt2orsSvtkx670Z0mbyfWqmxLFLYYTGlP3sS1aHClkuezsSqpNrKCfEEZcLDuTYGLOmCzdiFjdWkZlFL67wNXSRmKlFYiMW3ubPFdg51K3t1GbwOC6I1AkgW7MFp6QFlP4lovW0wXeLBcKp8hCyS4ZLJfuAeL1c7cthvsrBOo7hcCd55FvFyElTJXovXAp1O2CUz8HV7cotyp%252FDxdn5VucHguL5Sy86%252FhuWtHSXdysqxvvPd41hw%252BCRMNjtk5%252F7ElkW0uey49gRwlZ5I%252B48ZYLfl5dQqaV6Ua72baAAX%252B%252FCKTuugElsAaASs1IQAVS%252FmZ%252BOdilr6xDyq7U92Lo6cPFDUOT6IDYN4Zz1BCpuXEwAJrmSMHHgJG4UemzHctDLdOcE63UWzAcNqqrUmv5gnniiX%252BUsZSiLJZnbeviLDbSf5iCu6jf76ck4IDhAaF%252BH0QsebNCe5ePd%252FjJe4uZ%252BsPn0le7kowK0yos6OVD%252FJhXCXQEtKn1H%252FgnuGrhXiXWPObohfjTY3onaxcm9zeei8vnmmdNt%252F%252FJ2C4RiRXtoy9S9wRLkfLezwlsAFeskHM4lu5vSTZLBxKoWePght3jsHZLc4ykGj75EzEMt7qStX%252BjkWTS7KGYYNOErSqH093wOhJ0s8XGYLN9inG%252FEjKQCUg7jO7xbaq%252FlBhpI0j7ShKA2urGSbHSoIu%252FMi7QxATjf87gzqjYq2TIWNteHq3Sng0WZqWWC78MfMpl4JeEvxEuEmdzhht5ohEEkcp8KpYTCqDFVr%252BHIo7Cyzqu439z17gekVqKyBUsCkhHrIkBJY9zaEEoWr%252FKps0dHp6YsQ9T8tKp1mkbR%7Cclp%3A2334524%7Ctkp%3ABFBMjKabwNJf\n",
      "LG K40 OctaCore Smartphone 32 GB Platinum Grey - GSM Unlocked Generic Packaging: https://www.ebay.com/itm/255332100979?epid=28034673590&_trkparms=ispr%3D1&hash=item3b72faab73:g:AxYAAOSwKpph3eq3&amdata=enc%3AAQAGAAACkPYe5NmHp%252B2JMhMi7yxGiTJkPrKr5t53CooMSQt2orsSg3Ye8yTWgOW7pmE1t838dh%252FH8Qq1Y94cLBwZ%252FIR4uIp%252FeviTdq5x7MJRPfiHM1EXXD6p7IbNfwHLU2Kkfb2rZQbiEYk9EDhX1OPWROH%252BnSw5ilaBXas7e0bryBGIppLzrsGbczKzqOZKPuHtgzRa8HFgM9O8CmKgsffVDFObTFR6XtRWlCAOJVW%252B%252FntFbKcn5ysJVnjrYc%252F7u5wyxR9kkNlDiJZfPsD7ELHU8Sw1nFp1hlE6k04mjzeNb5CX%252FN9HLFEbEU85wj%252F1W4zSL9utxEnPSJBDXUT3t8P1dA2HjSyLrJ4UIYEwu9VwHR16blodwR%252BQWOq7QL11C7wQvPEhTnpTTQWbcPHTCU5LN6pvDx4NYArRoMzgFRtyCXqQMKAl1UaKsUInb3aa91T2LBCIJvjNNn7eTzECvkgu7RzSy4leRPq5CmS5V9yxg5C9uGYTOFQHii5ntucTqyz0Q%252BUBkJaHsdcO08Sz5LdIUjSarLkDGhVPrvuCL4Q1DIiJ21CU5ZF2qNltcguUhDWGulybSMOYx0O1eqPsjOG%252F52Hp6q0tgmuvMyj8fGDw60rsCq%252F0iKjQwVORl%252Bx1Dn0Ul939cmiHW485r7SB5l3kYRpJPndh6TRCf9RvdF2Xq6slhZIdwZid9fGv%252BK%252B%252F5j7dVaUXt7ATDcZL42HboLmeTwIIhVyiVMpe%252FgfEDmmtz6an%252F38cFc6l0dAGRPKl4laLUM35qo%252BncVdg7qTIJ5KdW66kIM%252F%252BIgI9JFq2V37I7J50hc1MG39oZ%252FgDHQFnYFV6NailZCWBWAKd2lr%252BQlhY43SN9paQI4M1PY2%252FngsT6j8h4uHw%7Cclp%3A2334524%7Ctkp%3ABFBM1MaYwNJf\n",
      "LG V60 ThinQ 5G LMV600VM -128GB Blue - Verizon - Tmobile Unlocked : https://www.ebay.com/itm/324571501024?epid=13047982778&_trkparms=ispr%3D1&hash=item4b91f811e0:g:vuIAAOSwPMpfqaJl&amdata=enc%3AAQAGAAACkPYe5NmHp%252B2JMhMi7yxGiTJkPrKr5t53CooMSQt2orsSvhAqMt0wg86xg8aAkgjQJP2Px%252B77V95KarJWGUHkRxv624WsiodvstZjz48ZLhsCbmzC4T0nqzLFSZ5Xwm%252FP5ah5G%252BWNZEwVl6NgxA9FMVo00xVl8rwxZMskhFXpbNjpajJiSqE9NJZY%252Fc7rCx%252BHlG9nEIRt4edKc3e4kTb4l1uVESqWbHUoCGOSZL04NXCq2fe%252FIaBmfBAwTy18eSS4KD8zhEmGZpeI4eUpKBkOrOXDz8d2SDwLsT2XBiO1SMMoc619Wlb3ZL2bYlQ6BPizmk4UzgwjpLZPhp2JdGhoQcryiyWJ%252FMsPSNjdH7GTQHnEE8vBlKMCbeGLkN%252FFicpXQb%252Byfp3tU8cqI5dj5NpmxUV4xDkD3qSYHQnAPtIO2VNYZZCQZHShrHVzwRebqEoOA2cE61pdVKsDRC3M1%252Fh37n83%252FWNGvB1wXbOoRcPtYBDHqqHgEmflDMpNDUJhvg8x1fZ2eBDLWGI65XkJK6BtGo9vuqs6ykTanMeBEB0UAAiFxCqJA2ReEyxMhVyrWzVbSvd69F73S6fl%252BfHxAB0igkl9T7fT9tmNDCj3vnf8%252FfuqAvjdvcG0PxPWmBm%252Fv7uEjoldjNE0fs0lBZYBw7mTLRcB%252Bf3aH%252FGA%252F%252BBDYX%252B6y51sHlx5DEoohJQy%252F8JDxpvslbnTgSfscenOJdmReX57J0qy%252BvdCeLFwSIXJBhFHwTbVEzOsFH037vBWy0qr0LT095Hu4lLymaMq3u85K7ErprWTugKJuJxWsQp0WnWykRkvmthVHrNelUeFMkJmXc2Wjq0s2DcDTydQfFmPNa50Elepq%252FUOjI4Amv1tGvbjQC2Y%7Cclp%3A2334524%7Ctkp%3ABFBM7vmZwNJf\n",
      "LG K92 5G LMK920AM1 K920 (AT&T Unlocked) 128GB 6.7\" 64MP Titan Gray Very Good: https://www.ebay.com/itm/324785911303?epid=14044065159&_trkparms=ispr%3D1&hash=item4b9ebfb607:g:t2QAAOSwTfNgRkNT&amdata=enc%3AAQAGAAACkPYe5NmHp%252B2JMhMi7yxGiTJkPrKr5t53CooMSQt2orsSvhAqMt0wg86xg8aAkgjQJAwRJv%252B4zq9SeT%252FB519YBz38uGIy%252BanCl7%252Byf9qNHbxuRHQ1SAoXNFTrpvBzIC5lcxK%252FoCqg3mhHGY3%252FFy1mdRB8dGsYubPGS884iSxLze%252BHKnBv%252FrQnCFKxUf%252BvLCtsLQcLWxm%252FFl%252BDP2O6abPAdqfeeDzg97F3fwmT%252FE%252BnmTfZpuafYhiUyD1OwNjE3dRzdmFDyVpeCaro%252F8xTpfVBDLarANK8h6jaKwWkMxGuE97XHA7FibaHviDAmIYNq%252FesTzICmAlZEzsG54TLjjMEhnQJzoh91NEjPKjor70SQUduKxINLQQ%252BPpZPtTvBoI1rCoMK2LhL%252BMIu71%252FSSKtGdDS6oXNIO%252FmWBe%252FGz4pZhVw0D%252F5BlICb8EzYGZjgpjm4AFNiACaqfCZ%252F7zAWcv%252Bsfu%252BJuMeKCLO2Wxq35DDDqWNAEhLyfMac64vpJuOQTHRgrhrR704GBitWCxqCMuQf0%252FApjz%252F0IGSyr2PJTm9xmE1yUKov6vUMiytE0CNEOnoF1JH9hdtkcSdyEMM2g3fqWlS%252FqLdM5T3uPNB3FxKFNqz8BZzOhrEGc%252FxTIcWBwTvVZQ8sYYETpdrbV94Ob5%252BQAUJKxD3C%252BZSjPJiTCrB%252Bu11Kk0NeHFqYfc0TDpZvbqj7oKA7WiHOPSNeNjDXxuEakoI4WsnikzWsYyNPuPKaVf3kiGCVGj1Iv675yP%252F%252BkF3EDipooUqVCUGeIuecgxkEnM5LCxSpxcqXP9YkpBHBk06rkBVIGIO7OSX0re0dpp39WV3tRx4R5tCl4IYuF5i5gfzdOmGEYUC%252FaJ7Xcve3g%252FoH%7Cclp%3A2334524%7Ctkp%3ABFBM1MaYwNJf\n",
      "LG Stylo 6 - 64GB - White - Factory Unlocked - Very Good Condition: https://www.ebay.com/itm/125105461601?epid=16039117312&_trkparms=ispr%3D1&hash=item1d20ddd961:g:EGAAAOSwNxNh5eTf&amdata=enc%3AAQAGAAACkPYe5NmHp%252B2JMhMi7yxGiTJkPrKr5t53CooMSQt2orsSxXDXcCydCuSj2Tq2S%252F3GnnnKH0%252B6p84A1QLlBT3AH6ulCDm8jwChGVw%252F4fQlM3phxh7NSPTjDkMiRq1W0UhfeeD32QgIxHnnGOFoR6Bcoclp8gUog1sCvjToTu87x7IbuL3jjpHbTRca58qrgnUXSRxjKXGoCgKaw4ChrQOpRgtsXtYbVL7rdSzvWrbo0exEeNQlQTNmW85IV50G7gEPgBCgDV349xsCSLkVvK7pz4Qt8rUuuIi0INp%252BM9H9Qfs%252B9dMR3m5CPWd9vAfrhmdWHO55%252FnFF%252BR7XxZ2M4UbiPiyx15ES5gAr4bLU5aGx9Du1Rk84YAIIwGHOey3stJBJsiPlSa6ZiOL3CmhvrmeCGklttzhThbYI4ABQbs2t8HWYKhQBxstfd0quJzZzSWpcYH%252FcuvScDa5VAabCyQegpN5a2r1hCrgXhy71zjZi8ooALcziRAZk46MnAtQHn0mBGsY6mbw3nc2OwkDSyL97%252BzaO9wncKE9dffKiIGnc0RDHwLmkaLQ46iZYiToKvh2UAjSfY4NdALZgAmv17yz1kxOrjyMBAx58g6KWO4beajaf4LYAy8%252FYACjw7ow3UQnY36mMD40wEP0kvZdcUJyRO9ZuLMLSKCGHJ7qwcPPvTh%252F2Jrdoz%252Fs2cZW8stwKzDuj8Xb31D8pEPffUQzE3LUI0LYL5Cg8sQOSffSW1bBZIK6RKaABJ5123OerJsgEQRBtjevfZoYO%252F%252FYwHhJV2dlGdyka1LgVKyg3xgrWF14q35pXValBwzPo28C3zHZBHe6dZ0uAk%252FaLcqtjNfq7Vm3EcXnnXhSYS1V1oYr4tH97jg84%7Cclp%3A2334524%7Ctkp%3ABFBM1MaYwNJf\n",
      "LG G8 ThinQ - 128GB - Gray - Factory Unlocked - Smartphone - Excellent: https://www.ebay.com/itm/115153496232?epid=28031136652&_trkparms=ispr%3D1&hash=item1acfaee8a8:g:apkAAOSwkZBhw46H&amdata=enc%3AAQAGAAACkPYe5NmHp%252B2JMhMi7yxGiTJkPrKr5t53CooMSQt2orsSR84A%252FGMxXIqJzFmDq6lDLrsJACdRwnTnzWWm7KNwWHsZz7uZRRkL6qpDKrbExdT%252BJ4enfJnsXDdxNCaEaLEuD2GA%252BJroMUm%252BdWkyhrvKfL5Ns%252FKv6GTjzeH1BYGkDaA5FhhfE9wYljPpQ6qVVf%252FwzsTSB7Yhjj%252F6Qp3D9YZiU4YT8AwB%252BKoX0zieLLDfZf6Vd3Ily%252F8vTmo%252BCKwtNoOWbCMivFSCGu7OUU88cYJXzzs4bPKTlgyJLFf3msyaa4YRBp4%252BTviPwIcOcS35q1VdcHeW%252Bbv6v0B%252BIK9TBWhZXD4xJqTodEgPYIBc4qzy%252F%252Fexecy7QnZgk%252BhfAU%252FDv7t55dhhiwjVRke4hyL2grHYTL9n%252Bo7OPihGDjtGz%252B7ev6ZsuPULKUzk4QPIef0NoCVeaMZs8FBJX7%252FdDF6Aw6ChcNfX4QCDIivG8Jr4X9aGUH%252B9TOJwmhtqdTggfOOQTp47e8SIUH57VpLsVF5RX5zmSpo27SG0ompm2%252B8hhFM6kVIFNGQl%252BGIPUrHiVu5edDYj%252Bng0woyrYvZ4M8lyAK65DzHKaQHFkb6%252FQjhzVNWft4V3ETIwWMX8%252BtbknVa7msmhKj0oGUaCjdZR7MUezgmg0RYh%252B89yrz9%252F1RdKvXBMtEO09swa49ynrzFqBywqp22OxTUK0nRC%252B93pekMRYGIrMUH%252BFo7mU8%252FpCXyPVu%252Fr%252FKZc3YKbdjqXCDmTQccKEMeW8Wiu3YqAaty8KRcHH94VZ8JbZn%252FdRWS6l9AzKRxPDr%252BtIldm9%252FdsVp0Cugsuu%252BlX9Rni9BmWOkXgUfgGpoXhHW3KPcTq%252BkYmyxI4iCtWPWt0%7Cclp%3A2334524%7Ctkp%3ABFBM7vmZwNJf\n",
      "New Other LG V40 ThinQ 64GB Moroccan Blue - Verizon+GSM Unlocked, T-Mobile, AT&T: https://www.ebay.com/itm/255289952243?epid=13041817779&_trkparms=ispr%3D1&hash=item3b707787f3:g:fiUAAOSw2~5hcett&amdata=enc%3AAQAGAAACkPYe5NmHp%252B2JMhMi7yxGiTJkPrKr5t53CooMSQt2orsSg3Ye8yTWgOW7pmE1t838dmn8ecRTAGULjUDtpRfiO992LbOvUM80kkNWjN%252BSVNPtBolNZwqMr92rIplNq325eBOS50dMsEfTX68YhW%252BqeVVwdgklFsBteCHYGM8kgL87WVWQvniEuPwrsKt81dqsVuhFz8gLVJqz1bK2kqWhwNzjX039rd3N%252FE%252FAIh1ViC6uDnyKJJZqXXC3EP88J8XWgJ%252B9fSntAk6%252BbCaBonmVDvDRA8KWqYlBHtAE9O3PxJeQrGl3dBpSPcHLUT1KzsybmZohuDWVSoEKlsaXBB9fmaZJPuRSD9mKhhJXkDirPqVfMnFxyUrXtR2K%252BQg3Bbn8bAZ0dFEeXBCHllqXieBnrHvl%252FGY2b4wZPf%252F18g2H6pRmY1WcPPFozZWEDa5Lv8Rh4TXTeTt537DCrlWkLcylpjqEVsBr%252F%252BrAz1qQlnJzV%252BekuWeGQuBUx1BcjH0al5M9%252Bi42WirYPh%252F74YunaC5tBe0q037Lzes12Dl69OOWZcIc1Cmfyl%252FGJNPUFGOZKcOOqWgf9acdil7HYE4HoHL6HyVPdIR2OWlIhJRuQNZVePUqIdmQ88uoqKIOW43iojSDAfdCFy0dLZR86IWQtPecag3OYDp8XbgU7pgX4svbxF%252FD6uhBfVMhIFH78VUUaip1dGv4epc%252Bt0p40Bl1F0u1vW1oh%252BQoOobLQk8Xg3i%252FfHYLAQ6CBJdgoNgmSpumAjGieuhJXSDzBEfV5zuLuVPnK%252Fjx84m%252Fy1%252B%252BtBNJPKAYQoQzrJfojdILqNyu29miQf%252BDOw3pwOJ8t%252FO4dMmi6aMSFu17%252F6kViGfvOphOD038eC6p%7Cclp%3A2334524%7Ctkp%3ABFBM7vmZwNJf\n",
      "LG G6 - 32GB - Ice Platinum (AT&T) Smartphone: https://www.ebay.com/itm/203796463016?epid=3020226319&_trkparms=ispr%3D1&hash=item2f73373da8:g:zZAAAOSw~Ihh6Dyo&amdata=enc%3AAQAGAAACkPYe5NmHp%252B2JMhMi7yxGiTJkPrKr5t53CooMSQt2orsSjVt3vLKCbov98Z19qhuwYx2kj7N%252B07LeMkveAftRenDKg0J46nndmYoiPkOndIcZdwAG2oIYMIt9E6IeDT6qY3cIcCwa7VzxsFqFQMnHxYAyQTjhqp91csTxcdPJturd%252BnEW1xhmxRgDFa40FbV0iKZqScla2LJSPe2%252FkgLvmgLlEsvDug7L51GLadBh%252F6%252B4eNGztHoVHl4z62lsCSegd9Q2Uoiao8O6fhniAfUaRlSwPVNwWzdK0Dy%252FoaHLJEy0avgz16qnpwtAlEroVa5Q3CFrur2k%252BbRKe5FStelg1FhKaZQ94FL%252Flp9J9AsTQYFIoVu1VRdE4%252F8BjVL0autTZ0j%252Bf94bRQBE8IH8c9GSV3wJaLk3QpdiLhZ8ouStLf5MXxmrcBAkqmfzMJZwcbl960zRvwfok7An3OhpiWM7vTfrw0R3Gx%252BIjm46ckW4jnP%252BkFtOlz4%252BXME3Xf3D8xixHjTEKSpFknNHGP6hbccy3yVfHJfAl1Uto%252FhqASaxB1awOtZkOPSPdnAvRJqo8iy81w4Ranw74l4LaawGodnhjgJkr3umdAxP7VmREPsse2zZ%252Ff2lg8TzRh9ASe2Sjmc3Uw499defTAe3ud2SHnQbmYGp6PDIgMbshC3pvB5qUjIvLVN7WQ1VDXGjtkyxv9cKqRsxtBIFa5RYcg0DLDsRaiEbdXKw2DZSJWQHaoKUtt2hJjc%252B2Elne%252BDiJNCK%252BEdHdOYncz%252FuDVK62pTf9o%252BFR%252FIhsVVCcf1U4j4mxXrc3LfSS3TJHgDW6EoPKYm9MBsjW5NTpE6GTX9MRaiBAaVQ7DEKF7uLlT3BMRf3xd806o2N%7Cclp%3A2334524%7Ctkp%3ABFBM7vmZwNJf\n",
      "LG Wing 5G - 256GB - Gray (AT&T + GSM UNLOCKED) Smartphone - Preowned: https://www.ebay.com/itm/154686101828?epid=5044111186&_trkparms=ispr%3D1&hash=item2404029944:g:HmYAAOSwNIdhhUiF&amdata=enc%3AAQAGAAACkPYe5NmHp%252B2JMhMi7yxGiTJkPrKr5t53CooMSQt2orsStEKTPzZMfQmny3knR97t0KPpghyfL9cZRXVCqhwL%252Ff%252BmxCSgIvvh4XNZzKVnMuJj3fY6R7xyjKp4t9IbtvdcBShgBoidXfiTMnGz54T18DwaoCBQxyVU5e9ildLXp0Y8i6nHm2YZxo6gCbW%252FF6UzLNMJe0wy%252B5ktX2nKwPfiLpcLoV9XfcEog1%252FULR%252FakCUCZGqZvwZ%252BLPGneBzojagPknpq0WeKj0Adw7mu2Rb9SvkuHzQN0iMszdpb%252FgTS9MF%252BKuyuDVgLy51DBhUaC%252FjYqWWhuXPFUjIZiYb8YxL05801N0xpu%252B%252FHVdcZ6gSfRF%252BKiCDx6hLmVKgHbLb14ppW0Jpm6RMseDMUjUr%252FsaukCdJu%252BpRmTLMmGyfDbse39vGU1hMxmyHKpJXAPFSpHakrRE3yJyMk05lcjWWmno%252BvdzmTGFrAfyPtoE%252BCpdY4eVYfOm787T3lPLp75AHR64VowYFFSHJ7mq7l5e52s48SI8twjN7CtqzvrA9MGRPhjYyserCMTQF6TuiqcE83K1qKvyD4T1ic7rsTBHro9IKczlR0WhgDwRWTX0iA%252BjbvduFAgECGsYrlhdAPwOKX5I3z44cxGMNtjlFR62gWCQ1%252Fh8jvQGdSpiWuWHuQjZLqgkj9WEsQM3RVy%252B%252FICsNqBdgRiL4uilBzJk2Jo1jrYRYputTKwc7rufI05fuBqsaLz%252F0sUGtbQhMyN9M3YiFHJgYLp%252BdS26IpvW477fQ5dHngCjcRvf7ThwzSXpyD4fBrJr3LEWlNsB7hVSV7IUkDRP%252BBjN5si6Fv897UP0%252BaGqReF1lmml9T8SLuxGSFI7gaNbAk%7Cclp%3A2334524%7Ctkp%3ABFBM8PmZwNJf\n",
      "LG G8X - Factory Unlocked - 128GB - Black - Android - Smartphone: https://www.ebay.com/itm/125066788519?epid=22035385565&_trkparms=ispr%3D1&hash=item1d1e8fbea7:g:j74AAOSwDtRhxLdL&amdata=enc%3AAQAGAAACkPYe5NmHp%252B2JMhMi7yxGiTJkPrKr5t53CooMSQt2orsSxXDXcCydCuSj2Tq2S%252F3GnrdciV4eBpE7K8OXB7TrofUUBVJ8996oejZy0jDrFVNDuG9ikPdAupZWjSp0rYQ4RmXgA1OOKRoWrLuV3XP9wVm2bhwbK%252BMxAIoGCZWezCRWxNxp3HgGj%252FQVXTaqHOLv%252BQEfScikOBnt7Jvt%252BkugnpbNtGHXt6qrDRbHOfyWWj8dWuwcrXICuv%252BdAtTRZ8ObPVpmX4P1oANubAcREzVbKmWP2g4a3sZ1UuydXuxgBFNs7uOf56pc%252FTb1jDx%252BsszeOlI%252Bv6tSpT%252Bk3Kh1Kr6wJa6QA6cnhZ8T%252BaZ5eVW5Gbm5OS%252BrNPeLzUpQsM%252F2uwZMmjKHtFUqj6WqwLAbYTYfhU4IL85OLFvgo6KwT8%252FDhnehvFeWnjxxbaOBu0oBRdky%252FdKBJZEW52%252Ba%252BcJYLdhhbqe4SI4KUa8LZURWZ63g4OMal5x88jn5zXlbmElW9mRFLgzhXhYrCJYpOBLpQcfn%252FMFFi0TDL%252B7cl4bkACHmigROMcsA8YIwR57VkpbIcg%252F9LbQr6R1e0Fst7l7r9BtgRRuNiWk4NUGycyHkgLSb889Jg6CClG7ve6%252FAnq%252BMly5EWWzG4g2%252BZBKzH12zWhawueKcjaxzo%252FHrzEeuT%252BN7IrO%252FgUf2sQeXy6WXc8ZZxgnlOg8X3d3bB8a%252FKkvNTNDVW%252BnBOQxJSANgrpzFzj13s6nIdQM%252FfbxeWDVzk8umVOvuMQ5v9hS1xQQSxC6zZ4nyG31lYJUWupZVoTW2MRW8uU06w5u%252BtKF5vEW%252B3vhfZfgXCrHoGcRMJrSzN%252F8MM2MNfanpwT%252Biam5YBuXlIspMO8dz%7Cclp%3A2334524%7Ctkp%3ABFBMjKabwNJf\n",
      "LG G8X ThinQ LMG850UM9 128GB Black (Sprint T-mobile AT&T Unlocked A Very Good: https://www.ebay.com/itm/194426140276?epid=22035385565&_trkparms=ispr%3D1&hash=item2d44b37674:g:5ZsAAOSwDuleEg3R&amdata=enc%3AAQAGAAACkPYe5NmHp%252B2JMhMi7yxGiTJkPrKr5t53CooMSQt2orsSd3M8ngECaRA0SmyU4KT%252FnvbBSBxnUwMWnbO9YK3J%252BQLam0ROsbDgNUZxozzAAeJ%252FQsbEBC0cUEDWpTHdYKPImZU1qCLlkwXeJg0UR83dZvPy2nnrZkKtfYKoF4v9FCn6t46B%252FVdjM1MxLoRbwUqWWVLVMXP4yR7wvCl014DxuQnuZc2ybUHjCsi01l9TbCfxFVpDQpXuPgO5LnS2%252BQFMXlhQ5NxR5ZK0RRctT3p6WDkUwDoq6qoysSpc5cXJhKkIR%252FvhV9nD0OX79IakCs30pR5MqP%252BZDPJlDk%252BuAXiAqYWgzOTgFgZ7WJqcntYAh5qZLq3pfX3kr16vMX7QxxhjNcqf6wSDNZszNdXGY%252FB4u6DLiHSRTInxXhPm57JMx3TH8%252BsdOPBXTuy56wJZ6FYe5Tpd2Js8IuuEwhmNZiMB1HceoLGB0Qm4aMGYJ%252B%252F8Jtqmqr9XJcQ022Jm8p%252BvKCsMlbw%252FlhVftywogRGwu1iZKIRcD6zQrl4L1SSolAJTNh0X22wpaSH2x3qvAVuhUrXdXiR%252Fp%252B%252FpNVLp8moAseOhK4GJ%252FU7AL9svbMVktBt0g4JrEO4B8q4KqZ%252B7eJh21v6HxxNDrO0BkdUN6fcdgC9g5PQaNgmnWlqXojGGFWHY4a4hfz4d59Y%252Bx76KAxjnI6BI1i8bPGSVeIt7IHJhx3rHxd7PHQZpWPC2HY88fCBGd9iDeXBIMx20d%252Bb2a2HNdR1BA%252FpcqEWSkODsHkevB6FkGpYUIyU%252FwCrygzhG3s8d4nAbq9jCx0i%252F6atbNQfLbEDoD32f%252B2E%252Fj7lTVfamn2Qm9BM%252FVDaIW9mprE8zzkvN%252Fthj%7Cclp%3A2334524%7Ctkp%3ABFBMjKabwNJf\n",
      "LG V60 ThinQ 5G - 128GB - Factory Unlocked - Smartphone: https://www.ebay.com/itm/124997193616?_trkparms=ispr%3D1&hash=item1d1a69cf90:g:d0YAAOSwEHlhbdIA&amdata=enc%3AAQAGAAACkPYe5NmHp%252B2JMhMi7yxGiTJkPrKr5t53CooMSQt2orsSxXDXcCydCuSj2Tq2S%252F3Gnt72BRpb3vhVC9I88s0RLdXap4zWdXyx719Jnq0rFXRGHXn%252FDMIHfdFJ6O0b5hgrO1GcbsbESJhugvL%252FqvAVNJCEc6famfezl99gDf%252BNv7k%252FtlSCibvw00wU%252Bo9l%252BBuyou9X%252FfA22EWjdUL4EGwJBuxoT2XvqbLwfDa2eR3esyJgnYudHrtnb%252Bef1Jz61bJlwopjIJeMe7eZEkfy8DGVhqjyZCkIF7uKV141HjLsVrldm%252F%252FRp1sG%252Fp0NI77sVHHKUC84m6muA60UEop9%252BXeXhsFi%252B%252BMMBk%252Bf6gLuzvQFsKl%252BGEcYyuDIG4iPW%252BZuBFal12CmjY20qoF0uLPhmOm%252Bsozwc3JPJBhzesJhw%252FduWmlMRbiEMNWd7YhiKH%252FyZFKrPJ02W2EDWfywXrT0nYh%252B1v8skZnYnHxig2ba3YSSnicbCs1ogFbPFIzCIBdfp6M9p8%252BSUvuWLzHZXuSwf7H9lO%252FCAl35SFhPNPEysQoB3WV3OjVL00WkTT%252BZl755zM0lxb%252FBh%252By25kKtOmzDho1Hq0%252B9uGz%252FIWfGMZFvjVMONnFyn79gye%252BmDTQW51zT65bmtCr56NlAp87NM4G0gKaSg4UwMNDNrRKraU7FwHI8c0If3wz6YjVPGS1CBwvFH0LsQYB23YTIpbUB%252Bjpk9LBWzs7gDM8orFkrH2R3Nq9FYInovOl%252FQOdsE04DEjw0q5CmCAEKIfGNTSUtFh%252FLi%252BDyP58wsgSslxXydHluUNAV2LhVQhlQz7BzHWf6lyeMRqh8Y4s4ojkHMuLVcYjR2TFnZFrWx2JD1UNhEy9IahehwI7T%7Cclp%3A2334524%7Ctkp%3ABFBMjKabwNJf\n",
      "UNLOCKED LG Velvet 5G LM-G900TM - 128GB - Gray (T-Mobile Unlocked) : https://www.ebay.com/itm/324496282536?epid=28041264968&_trkparms=ispr%3D1&hash=item4b8d7c53a8:g:YaoAAOSwpDFhFtf0&amdata=enc%3AAQAGAAACkPYe5NmHp%252B2JMhMi7yxGiTJkPrKr5t53CooMSQt2orsSvhAqMt0wg86xg8aAkgjQJNsSOjH%252BCGtRhvVOePONuUebZWmGHJ9660waFqwmvuPqH%252FiJcdyYHHMJViEl1BRFU16rsGPk%252BOvfjX5%252FqQrcyShJsOhrXN1rljztbMvFnBibhbGAaT%252F%252B2XE5R1CfntXt3ELY1caUM%252BT%252FD0o10vAOwFceD%252FgMAL%252FvxtuPa0QijueYCdRjVTn3uEBJ0SfmOM9%252Bl2YjA0voeWyO2Cu%252FtFI1l5VSI99kKyQnHvw9y3k5DyWYpky1l4mxQ6NiQuHQQLRczFjRF3ja%252F81Xai9MR3vDq12V6LwTEBet7efIHT2D9QvDgCn%252B2CblQICcuEtDbYXWYcW6YxUS9Uj%252FO4vj5Hh2bVO24ZPs3Rw%252BesbFXx2%252FQazrat0NeCKODhtDEYd%252BEErVcVAF74gfh5Fjda2XADVlBBE0eX8t%252Fodq5KnlqLsnC7jZIXc4wcJQhzAL%252FdarYggSVV74w5aDmFe57Bc6sAUhXOmvF8XG63ZwM5vzrn6mav%252BGImszH%252BGPhdsX7ox9DW9cXoeOPB3Ye7CP0wZfKTT6WfTyhzcxFccVJPpIhninres7gZxbXqzpe4xXyotlTZqdrjHpTyFp0dJjs8ZVZdwDLD%252BwIxbd0DbgawYUCYNj8%252FH%252BeCz4kgd0i6QL8yxGfiLDK6XX1mhq2kCTx7Rd64f7Nbf6nr4zDN%252BTEruZ9QgGhHsW%252FfUM6jEv19Sh4GP7ptO5NUYwc3%252F9e5xdGNi%252B70zbFwYpvJJXwawQe0byl0jLzK2Ltqsx9ougvr6WE%252F8TdYdLRWAymAP1xDwBU7J46ACMzFCxacJYDXdBLT%252Be7J8OJtUv%7Cclp%3A2334524%7Ctkp%3ABFBMjKabwNJf\n",
      "LG Exalt LTE 4G VN220 (Verizon) Flip Cellular Cell Phone VN220 : https://www.ebay.com/itm/144357313540?epid=6049637009&_trkparms=ispr%3D1&hash=item219c5dcc04:g:twAAAOSwoRphHqlG&amdata=enc%3AAQAGAAACkPYe5NmHp%252B2JMhMi7yxGiTJkPrKr5t53CooMSQt2orsS9d9gBrkNbRQtRn8MVXnYkg0m1nTl0U1IbIDYPQxxQP9q39B4YvhTPucyHEOIjalsMx4zzSl0LB7z7gC7qKbiBkz92iOGDNEN4Bm2%252BcRfLP%252Fgx8ueToSYd1K%252Fj%252BJY2hLhAPto4vO9xbAxmbnvWS0Wxft93LhBocwMI6Gt97Cagv%252FCfdD%252Fd4VNH1EtujBg52r%252B%252BrKWM2SZFxeCTEat%252F6pURTZ86PLSpfXTGGVQmAGah6b9pu%252FJ91WyTQ%252F%252B8nzDWWa1968lenUKF7Qn%252BZjtUuc2IhFqyg5jI26DfLzacmyJYXCQY9vlDyKAy4nPUG1vBvKR6EoeRVLDr5WgYj7zcn4Hh79OfxZAkwy6Ftnb1QQ8LIpfWHnFz17tIqRMXo7CZSyhAkOhBupmvveZbx9q58JLX2sYbtjuaz8k6ZM0S0OEoAJ7LDqXDUJ1T7eYEcwvJ0xnoMkS%252FY4bRaDaI%252FTMyIg6Yb0ta5rfmA82Ae2omZ8fLSiM8eEX5mt9WU%252FY5vErgisy0vEvDZOc%252Bg5mvgufziP%252BfTMgdz9E25nhxB8noyWvKFqCFmf91o5QprVvdbTbzrf85qZg2NJQ9fLfVa8R1%252BaZV8CpMgGLPrGMUp3uOEAxQXM7pQNek802dwc6Usv4tPyFOyAW%252BG8%252B3zNyFOhDcXuTZHhDuA5KuR85cflmjGrkj1xgfckl8ecTWdK%252BFjKUHKBqn5SS1rvujc7%252Bq9Z4UxWkODzBJ826itRmvRwoE6eYu7AL36r75Y6nVP6tQMdx82Kp0ggREqt6NAIgzucbz2TErA%252BwVx1By%252FMfLR3Csx2Ob424kkGSGXUp2KjVTIS1e1dt%7Cclp%3A2334524%7Ctkp%3ABFBMjKabwNJf\n",
      "LG Velvet 5G LM-G900TM 128GB ( T-Mobile ATT GSM Unlocked) Good Condition: https://www.ebay.com/itm/353743684511?epid=28041264968&_trkparms=ispr%3D1&hash=item525cc4439f:g:ZygAAOSwwLdhppaM&amdata=enc%3AAQAGAAACkPYe5NmHp%252B2JMhMi7yxGiTJkPrKr5t53CooMSQt2orsSd0ReTLyM7cxPnI6zs468EAZARydi4r2iJ4%252BoJX3dce28mBxzJwWbFc%252FzNmC7A03MbdZsDV81yo%252Bb6kxV2qfKC0dIAps8aF9rgnP3hlSgDzCNAP%252FlK3KJQQei%252B0Bdp5kVstO4r4m53cBg6zDDruKhpWhZC5jl%252BPo4RWNmcxFEOOclJFiuGMwpC8J8HmR8LAFYhgPjw4xEX7M6VTVN4QMst05B%252B%252BTLx5%252BiQjDufvzecYfuvUifKjkGgIZ0PdD9fAOS3oc5PSZHgEbANZhjRLEW47HpsGHywCz%252FEWQCF%252BdGREBKKwaPpZs3DjnPA3LsxDGRUMpyEFNfVWmrTUtzDU3%252F%252FcZWThQB4ChhDfJD6Z9XoyoHuSQVYei7YFT9VEOo%252F%252FJRo%252F24pk4x6YFRx2paBGycMIj53GbGmD4FQPm%252BIqNmm%252Fx8uJo1WFuxzMmPzAYoW4VLwWN7ryFtJNmTabjDW4jZVhvEI6hyow6nz2jne4%252BpOBvEdk94fLcqfY68c00dhsY%252FQXX0D067dALXPlnKc%252FicJWTm0YKd00xexYgKAff0hfFZUjcsDpZVst7KqCLP6RPbgjpSy%252FonfAu81f%252FeGbWZcc9atHq0DKCMiVmFXz%252FrgIqZ%252FClNX8k4d9BF%252BY6MOoSWX1k6d8IfbLcieZlpCU8Cta9lnFIlhAKzBfq8%252FSDAFTOpjeWqhqVfHfjIIXIXi3%252F9RDspPQEnzp3c8U1ohInX1%252FX4zTwnQrGLfGd7a4gfEKojN0fE77bxH5lRc2OeAtWX7irfIcKZ4g0tmYhQpyfldX709hfcleJqQ5oNSMFVERaIjq7h3H4qYb7H%252BI2F3Vfh%7Cclp%3A2334524%7Ctkp%3ABFBMzNGcwNJf\n",
      "LG V60 ThinQ 5G - 128GB - Factory Unlocked - Smartphone - Excellent: https://www.ebay.com/itm/115089233305?_trkparms=ispr%3D1&hash=item1acbda5599:g:d0YAAOSwEHlhbdIA&amdata=enc%3AAQAGAAACkPYe5NmHp%252B2JMhMi7yxGiTJkPrKr5t53CooMSQt2orsSR84A%252FGMxXIqJzFmDq6lDLqBqkeO8Q%252BM7VFwW%252FFqsnYS4cySsD2fdGXAej69dWFqZkntdOpNFE0Ne0s%252BdbO1l9AM2WmLVWHRnUE2gKyP18ZRQoI8SYSwKgGlcchXeCS%252FozPocytyYHVjda%252FZ1c2I2woo04rvzLfDkROsLXvj5s8cLJFx34NpO2SuC5u%252BECLQxu%252BP15GlwTxmMldS9UJbviiAQ%252FkvRdMIaW5d4XmNodEwE31b1dhfwOckt79Ld7rq%252F%252FIJPs2WHyNH4wmb0w8S8k9dSFAg%252Bo90DJkO01M02NkVZrSyXyGnJHzSRwq1ljUgP71i8zdR0em4eliKwM5OYz5Bw2OG5uL9tNtQtEMngFWuw7i9gcv5fVbT4SLvhLWB9oNIRxJcJUdSKUH%252FWnnkyga6pHY%252BGcoRRJDLptuIRwHpixp1ONSqC6yGsPyM7DjcA8fL9WDf212ty%252FGELmckrChT%252BTqHMbwpnWT4gtuI0phTVl1n%252BdvSJwM2il6873FoKDC5tZn%252BQm%252FRiE8MyoruLujm3VIpdaHd5eIkcM1V3SoQkMyqSo8GIFHoZtot8VnfZKWJ6gePL%252FtnlQ2MdolAenvTYfl0H%252FtK3mrS1XUufXG4o8GWbkwipc9nJ4v4gKgPxZHF5IJ%252BOFXoFz1EGJ0TqmFRuYq%252FVzsB8wQi57LtzqcmrMTdZoUA%252BSMYK3GrXXY5SmYN3rjgKEKFL5Xv%252F1PVM9Hzn%252BjiQjXjXfMpkjkOYlT2XG3ZE%252BXBTA5lJpq%252BD9F0mzBc%252BlFFCZiVK5pQ4hQmby%252BDvEmAq9Y3GJZF0%252BodpTVJDD0FPG1P8F9AsDne6TEO8%7Cclp%3A2334524%7Ctkp%3ABFBMzNGcwNJf\n",
      "LG V40 ThinQ V405UA Verizon GSM Unlocked 64GB 6.4\" Android Smartphone Very Good: https://www.ebay.com/itm/185105032963?epid=2310589343&_trkparms=ispr%3D1&hash=item2b191ea703:g:2wsAAOSwxalg24G4&amdata=enc%3AAQAGAAACkPYe5NmHp%252B2JMhMi7yxGiTJkPrKr5t53CooMSQt2orsS7UXID%252BRPOSNsnm8kYPghtGXN5Q4%252BuFsbkS6%252BlCldeFBksZb%252FssB0bgiduxzQoHUwJ7bqXia5II22IyQE8PIkEPhK46aP3dwlTvDRWhqSWUrxOhonDmXBPyTA4w4CPfOGI1agOVWB2UmBbWGBsnAWee4YSekV9%252FHJE%252FtPdCnCL%252FRHcSIVCtkXjN544ZL12cfmZomxr4DXE18Yu%252FVLwMPdrCfFuPsk0scZsXbeZgYaIFmoGhniVEVjhIhqcLdnPEyNp%252FigLdin6Q6yX9%252BkJit5QeRidCmIbwhUuqSgtvvHlXkTerpJOB9arvy4MjX4vxtBe1QRq14wRL%252FPInuSzxrkhNARiFxyHAQpWpw87KDIjiKr0LACCfQxRGphyQCiqQGJT%252BGlhjBJR0Mdt%252FAvXrnqXV%252BQu1L5pr8NQzRPX0N6FLnxm%252FojCvk3ePaQ5lVJZgbvkq5G1aIVQ05xzmrhppJzZocS4Ch%252B%252BoBGwIKL8105glEEMXMab03wRim6ZrcPIiM4iCuxw2Z0pZuyLa04EnoR3uUFlrQoM3MN%252Fr4445wNd6SmwetLcVBxXVbCeq7WEjDdf%252FHuq8RK1gTXTwYTWqVazU2e0qA%252B3hyjQcDNPxZHMiJZ7i5bIQdoGyjM9QSmPkk5pMCEHHlJi5ZZq1DUChNsMvi3QtP5GMqqp%252Fps3SQ2RrFKW4%252F2yBdwHgE%252BqOlbS2Rcw4VOszyrYIXK79FdbZ%252FwNr8M6B7doOJ5dyRUvaG0REmGh7tIijkl6Un17Sbtcb47oqUdlbxgwQCAxQ4adU4NN5uhPh2xRvl1bXYkZbx8CUReYWTTvQPley%252BIGqh%252B9psz%7Cclp%3A2334524%7Ctkp%3ABFBMzNGcwNJf\n",
      "LG WING 5G LM-F100VM - 256GB - Aurora Gray (AT&T + GSM Unlocked) SmartPhone: https://www.ebay.com/itm/353781915471?epid=20045078232&_trkparms=ispr%3D1&hash=item525f0b9f4f:g:7MkAAOSw7FBgU0lS&amdata=enc%3AAQAGAAACkPYe5NmHp%252B2JMhMi7yxGiTJkPrKr5t53CooMSQt2orsSd0ReTLyM7cxPnI6zs468EKtddZQkA2a0pvnRBDjP8zcc0mOM9k86qjoHP3Mq10TzmVa8JfawcUNEpgsbOLW9%252FcOKuPUxOuF4vCfwM9jx4szkqqUZlJYtpeWHodUXFjculw2b%252B4HSkmD8Lp6XSLtCSS6iS0cLGswLyVm%252FNPYoKIRwM5nezqWtIsK01%252B%252BRVn4Oy5wDmoTqpz4R3ljkn3Dsqw5D7tYbYMC2bijX0PaIVUwRUxkZD9IlGbNTeT2rhFnjrK2R6yp6xWNQ2vg71KSd5RxLS5ue1IMxj8RcX9rmn6iNJTgj0BpTPh6E4IXe95g6ORYyyn6zvhs61721Tnrwh0SYG3F1aQcnP7nlB7XIC%252FJ6rdd1iM6z%252FPvSLvj%252F5HPZq9hr2T%252BglZ9lMmgQkRNapkM0LdMzLr9pEleUmxu8J0YySFGZlxdw3RDFq98O3N%252FxJa9nAeLH5pHg%252FGgsEFnKaK7JOqZXjaCYg%252BiF00sHuBK15JEPHlZh%252Fvk3TvPEruaqli7%252BSuK%252FFYXK%252BP%252FH8kgM6WjGkUSBfiMfitzMnmsTz0bn9OKusVNiKx%252BODMjE0bnzqOxvA1rBWkaUFR8MKx4upk0x6MLPg41xb7QNtJMzm2g6hmSYZ2DQ4tnbS7j%252F5nqj1dn5IGCrnlj6%252FIQWJPmfPf5VhU7Xb6yhiwxvEkN6CXwiA%252F09PyuHi4VvVM4N0OC6Jg3Qxebaz4j8EUQe%252BJTigQyLOsbmRNNx7ZG664MNn5b46ogJFox%252BhXLMXK7ixp57xBB9yEDanslW8j7xqi%252F97kAfIkCT4c4MCUg4AydOlg4UWer7w7XA5qgYGIG9SP3o%7Cclp%3A2334524%7Ctkp%3ABFBMzNGcwNJf\n",
      "Tracfone LG Classic Flip Cell Phone Prepaid SIM Included 8 GB New: https://www.ebay.com/itm/165292984272?epid=21040136433&_trkparms=ispr%3D1&hash=item267c3ac7d0:g:ZVYAAOSw5gBht6HQ&amdata=enc%3AAQAGAAACkPYe5NmHp%252B2JMhMi7yxGiTJkPrKr5t53CooMSQt2orsSLY2M1Gjmuwt9c03vWNfiRtSzvJO%252F26JS6LZKKqPQQqEKR51QbyVgp%252BsjC9JoQVKWG57OscOhZWxX8tra5iQ6bEnvkw3KYlh64GX1sM%252Bi9Ur2wywVnHS1kcJDd%252FCDbFuk8WpCo32toiInjv6XEw4OEA3%252FPzGJ02c3vSZV9JLLvrA7xa5Jj2Zm4r0Ez1%252BqNCsKyADTRwtpV6V2wYDN2AWzpE%252Bn3TY0RTqYyhrkSlvkVIqSu%252FMeHpUXPo44E8lJVmfC%252F5HrIwumoqRJndiADqcMm%252BYO9UrMjw007CkrKXWxstAfSXv2E8BVpK%252BtM6ECNNZTKZeevcFtK4t22OItCzh05fnckiO1ExUjVMGbQDNEzxjMawr8cwKw2zhulAHUPmgvV2QxvNunlZ10L7OZaPQoCMc2x8JdoKnzNR3JxdEShOTOeaQSZ05cOseo5Fx2ZqdCm7ihzvX5cmeuBsOKUWbUO83BE%252BzmZFrFm%252FuF4d9otxspJhEVUPgMiCZMDgoTHbQ9A3OU%252BKEL3CICFz3Y%252FvKytnB7XQYMFrB46F0VvUgMYPQcV5I%252BkCIqzFExJFbI4WzXJEJm8wRAJAIffT5qZqga98TBEgg%252Ba6tJ%252FwP7rJZ2gvpnk43LjvyAf1INK24zp%252FvEQJOVmgYSYUlM9ZawbQwqUCl7bdUQqRqD3NSIfBgLh9NoEzFgFSfzxscmRIifQJSvbZGQNmsS%252FkJIqQ4sCJ3Fgrze1fVCjS05rZdXaK8us%252F7NBdWydaefnaiMn%252F7Mem5yDrN6SnVnnhKGT%252FuYtnA%252BCntU5efLiMYjU1jcRNTqNLLzY%252B1HbyFXj6Te1w09%252FwUp%7Cclp%3A2334524%7Ctkp%3ABFBMzNGcwNJf\n",
      "Tracfone - LG Rebel LTE - LGL44VL -  Black - New SIM : https://www.ebay.com/itm/353871254927?epid=28044148396&_trkparms=ispr%3D1&hash=item52645ed58f:g:LDAAAOSwudBh6Gb3&amdata=enc%3AAQAGAAACkPYe5NmHp%252B2JMhMi7yxGiTJkPrKr5t53CooMSQt2orsSd0ReTLyM7cxPnI6zs468EIuMMa%252Fpj%252FOc6lNW0PTOiF0%252B17kss4ATiPWajb2vEO7296X8ue8c29TN6x03DL9GWqaNYzaTAYVBC4XmGvxnKqVS%252BfDpy6Kj8OD4VVnSAJQuRj0IWoxzb%252FuPCkWHTXmxFsHVA3mLhobC9H0XbBo5go8vFG%252BCvCVFczcepUtpCiDKkUncX%252FKutLY0moo7gc%252FAZT1HkXrA%252FXUKIOhZ5baxcC1BLKC2DQA7QM0%252FURJ316TBvHisu3lEnpGYANkN7OuN%252FxrwM9zrj8d%252Fj0DYfluQyYETickWB%252BN%252BLegt9vj7XEkA2y6x8vTLrt256n%252FzeWMXuiR9gBIIbLL4G7aCJj4nHzl6K6Qgw9keSgobg6nnEh%252FB88znl8zCCgSXpgBJkKfXyLtzRHc440ApSzvqKc3wZK7lJME%252F4QTDlQw7wZg%252F%252BjHlSgwu8EmLedodA6N2ndJFMGt4KBVAHUz3616hXeQ9kgyE%252B7%252Fr6IoJTq%252FgVreUKs2MJ3O3k9CG%252FiNeTk0eRQUBd3%252BuFm6hEyM6ZGdjjaSMkFPJq%252F8781J4HR9vKgFs636nvw7czc%252B4DR1NW%252BEyZfaS4nhVJphbkHBcGsbUZuh9N8xpxBIXNUUT%252BVMy3jXQlTg3HuBBJvTmXzhMNSaiA6uIysFI2wDWjgKxLp8bAygfxNF7QEfnhxvjR6N3YZ1AwBe57kmf0DhHOz2DYUyvgbvkVVUujjCqn8rqnDXr2jud5JebJnhuksJWiMwm4%252B%252FU0ZAaMPmbfWOzMlMLPxqFSDvaVMII2JU2RXa9Ifn7KwepypXXNi8w%252B35k0%252F6ywm1r3uNC%7Cclp%3A2334524%7Ctkp%3ABFBMoPydwNJf\n",
      "LG Wine 2 LTE LMY120UM - 8GB - Platinum Silver (U.S. Cellular) =  Grade A  =: https://www.ebay.com/itm/224533162929?epid=5038082497&_trkparms=ispr%3D1&hash=item3447382bb1:g:N3QAAOSwCrZhLpmK&amdata=enc%3AAQAGAAACkPYe5NmHp%252B2JMhMi7yxGiTJkPrKr5t53CooMSQt2orsSvtkx670Z0mbyfWqmxLFLYRYAH1EIK9aH4YgBqVcqxx0mmZPdsfCdEXHfsiEEqxV%252FTvTk5RBCLNhwOi2kR3Lti6d%252FYylitNpno%252FbfkZBPVkWHVdsmsQxlOgjoZctkDSHhTO%252BSddo8yqbVCVefNl%252BiM3HPgbxzphkwAeq4ZFwsACO%252F%252BfbNVghvH0A2Q%252BW8qJBQKOMHG3EfBigk0f%252BdBwbk3QuJrNqhDBoK4DMUqG%252Fx9xJ%252Fq6S6zl6%252FfELQjYN1kMU0l8p7rpTFvm00kiZVI%252FloDV9cwkxDUOqawcG0KN%252BU2KGAWCPRbtag7%252FHJyXjUUCsKC4BTKHVsZLor13LI29ku8BgW54UN%252FZROrBKFnpVzxsE3SU0gmm2L7zaYmsHnFpr3vhRsS3PBGVcnjy74a%252BDQ3nMcEZDqzbj53iDG9W7zBMjDSp9AYUCQIPBXxm6z5wfq8Roh5wFEd4d9bz0Eapt4CIXpH374YQr7jlaTx98FG626Bb6CQI7fWcDlXj3rSbmjhmPGV811lDkIg4kQeWys%252Bjm%252B8OgEb7oEpuJlYeYsMtFRPiiPMOzeMaGOQsFVHdxFwimxboGXec0JEHT%252B%252FdfA3O8K32bOqlvuGxXCPHPzBqEwCLK73N3A7bBUL4NsLMXuTnxK6RwiBVqTYNnRWUqINmLtZ8ZyB%252B8flovjklJbfDcnFwDPiFIID2pxT%252F2fCWWLfH%252Fuof2dPfz8GfT9sdOlNCOF1pFMmjdpcWxPNoGiOXym140G1gs3UCcfkirlZNOiUj4nlJvwIONMl1LHWzh0nzGm3xffTNr7%252BRPbf7pMSMCu9TJFqprefq90cfceEx%252FF%7Cclp%3A2334524%7Ctkp%3ABFBMoPydwNJf\n",
      "LG V40 ThinQ V405UA Verizon GSM Unlocked 64GB 6.4\" Android Smartphone Used: https://www.ebay.com/itm/203764558386?epid=13041817779&_trkparms=ispr%3D1&hash=item2f71506a32:g:weYAAOSwmg5hZ87U&amdata=enc%3AAQAGAAACkPYe5NmHp%252B2JMhMi7yxGiTJkPrKr5t53CooMSQt2orsSjVt3vLKCbov98Z19qhuwYxEMLnCJmt6pJ619IOTAuIIuE%252BFeHdwZI9D6hvOJhuaVMPQujGI4%252B%252FdLK0fDhEO%252FzhUOYUR%252Bh9MVudzMeFQAd0XLXKoG3MB6tpZlRfZJth4tkZHsW3403LZflq%252FL9HMYLr%252FGIaQUy6c2Ctf8zDJCIoQEER1jIYLAxPlnCSd%252BAWnU5X8kFOTD1P4b1K8k%252BGjZFYux2p04ECyAEy6qHXLEalFPqwKPNYZfYG64FxVhVWcH3lhXsO%252BlHwr8eg1WdK3Lg4sbT5yquzYHKVBFcwer%252Bcqf6BXqMQO1YQonfcHz034fhMgETCYC8d4QqSr0gBhVGV42Y%252FWIla%252FpoPSk%252FRY3Ni9aBdCphlTfL%252BzlcCL%252F0ztEJpfS5eCv%252Fljh3mg48G2VdgCs1keYx8SzgC0M3lHtgJlJkiL7LOWKlsgnAeaUEXyu%252FAZy0aMRYp9rlR64oX%252BFA9%252FTAnn3chrNznhHdXrskXlwEYCpjhBTokltcOVcrQ4I4pa5LxbyiIoo9CQJoieNG2vdeaeWj9ewrW%252F%252BhT0Avmd%252Fd7WHKqxDjx721mllbD%252BP0nYahWwaqg6XeLdFBVFz1KcEH7JdGKqUTkYdtmGApQdU5wBcik1STE7zHpQrPYPrX1xHihoS8I853UraTdpseaR5U26heYhJiSyzecFyujCRXhNYIhytVI%252F9rMQ7eCBqWTRWmc72rCCCgvPj4cc65KyLubTsFw4N5gt36ZyWqtH4C%252FYk7tLEua9p6Wk1K7v6PkmNpCDXAHA3AJqrBLYIRp1UMF2sz9hkEXu5prsEppOmu3dvayQQW1iIugjiFLim%7Cclp%3A2334524%7Ctkp%3ABFBMoPydwNJf\n",
      "LG Velvet 5G LMG900TM 128GB Aurora White (T-Mobile + GSM Unlocked) New: https://www.ebay.com/itm/224469851238?epid=6041273536&_trkparms=ispr%3D1&hash=item3443721c66:g:CuEAAOSwlaJgzQ3Y&amdata=enc%3AAQAGAAACkPYe5NmHp%252B2JMhMi7yxGiTJkPrKr5t53CooMSQt2orsSvtkx670Z0mbyfWqmxLFLYQx4gqPwkxeRv28%252FwVyfxu9Jypk%252BwE7Cr2hM832L8wb9PSTVUkEbsTuoz%252F1jnf563mjTegcRNZ3fxrrQRB6Ym0q%252BTYOY4sfAzf0pXqXbdAv%252B%252Bjwul1w%252BbbXnTv2dmXhIw0a2nilZsFQuKgXEyNqeVRO%252FfswRr9R70GToAMS5zHdUetYj3Yu9PBZsUPbjrfV%252Bo%252BCfYLKWx054xZYCIEXhjKEYm%252FxoU1%252F7jYt%252BY6P8qVOSeuSt6x5o4R%252FzuaT00E4SaxrWqaysWGpxA7lrU%252FVgWGyzOHlq3Y4nwLokdNDei24JpWvLBPmAsHouwTubsF6REVRHcuhiiC50%252Bv7YtxgEDoPUfVrPbgIARXDBwRq0ZVUKSTNm2f3OAOmaKiqWaFgFFPh1uSJuD%252F6HtbA%252B5yenx1MdqBI2fqJX%252BBwpo1%252BXG8W%252FdtrO5oeb7cz6QkLybBA8LTZ94vGICZx26p2kHnvtL9oN2kqr3sbzwvyOViKgtVnhW3g3wTzjDlOmJpBY%252B1LHyjA45cY9w1zCz7lB0slf30qTghxxd57K0DBCTXA4OIhSkeCs8UugfN%252Biy5jAVNW%252Bp4O2AHPvwX39fwUO4X7C2io1c90TI39exciwkX97P1yAz%252FJOTOL9f6NelF0C7HBcB9KpycaRqo66jh%252BnfeMhngPNPk7wVcErBvi2hy%252FQTqulAH4QuHc06ky%252FDLzNpvoWYNBXhOb41v6T5MRzmnDXCdSRHMHgd%252FE9JbzbjhNzw78Mb84ePKpblTiIkP0MTmP%252FajjeYFNu2U5bp0z2igoZF6EKbShnGpF0E7Ih62EmGrzr%7Cclp%3A2334524%7Ctkp%3ABFBMoPydwNJf\n",
      "LG Stylo 5 - 32GB - Spectrum Locked - Good Condition: https://www.ebay.com/itm/125066838297?epid=14034122974&_trkparms=ispr%3D1&hash=item1d1e908119:g:Uw0AAOSwvYBhslb3&amdata=enc%3AAQAGAAACkPYe5NmHp%252B2JMhMi7yxGiTJkPrKr5t53CooMSQt2orsSxXDXcCydCuSj2Tq2S%252F3Gnns63AfOqS3C2ulcp2tglpRf2LHJnIkl6EQiyqhp3GzCvK7wdYXingAkf2dVvKPq7fGp5AtktvqnDTvWDR6wUW083DM31Nm6Z4%252FSedmUzv8JD1QSChJIW6IzJ4P7oV8Z%252B9lIgztSN2SneGFEq42fZvaIsh5HuhpmER2KzITt0pdk7fnGz3D%252F6ARGCA%252BbOTZd7xald2GaJo%252BQimyuUBF6JGB%252BCBlQSghWk3%252BAMgnJIhldNJ0T3UPhSQalGnihFnFYVIDn1%252BEwtJILZq0akDqO3QdLgYKPUplC8poOHevtf6sZwiDuBnZAtEIz49fM4ftj3hiYzVL%252BHiY6zXq%252B0LGWmhJEXaZZGl84DDjYpPO1%252BMN3y91qvI9PzV7jRJobGOzjnFfWVFWjzUNDKymUm9t0%252FJ4yUt2gDMWl2a1wFX5YhlVCVDJgKELbtyR3KbHHltXGJeI2qJlgdoyeTnk11r%252F%252BdBSrQ9crBu2YQx823r2T6wM%252FPmopDOVpeyiptjTWDcaqC%252BkyyBbDXGYQQhoIiFX0xwfcTHfBHJf0tsf9rB5xL3wy6S0yDbQua4FK8bTN65%252FLXfYep2zLDCG0WuIPMQndX7RcOcy5uA2WCWNS6xWMDk5PAVT1pLdAl%252Fxc6p%252FSu2qB5X5CIZlJa4K50gYrOYdI8OY4qg1apsHpWKDv0%252FHpFnq5fZsGgZrqIYe6S0PfyiE0JN5tvtM%252FvY27d5f6N%252B%252BF68nHvQu2yUrsl86BGUD82T6R5IOYvWv4RMNXCDsfPEMRnprKbstbxiCP%252BpuHmsO%252BTaYZaHg%252Fg%252B12lP2%252Fmp%252BO1YmV%7Cclp%3A2334524%7Ctkp%3ABFBMoPydwNJf\n",
      "LG G8 ThinQ - 128GB - G820UM - Aurora Black (Unlocked) Good Condition: https://www.ebay.com/itm/304301024789?epid=13041600628&_trkparms=ispr%3D1&hash=item46d9c12615:g:0DwAAOSw0rRh3OlN&amdata=enc%3AAQAGAAACkPYe5NmHp%252B2JMhMi7yxGiTJkPrKr5t53CooMSQt2orsSzaVbXtmGxqmWnpn8RLN2q%252FagByeGln3wVMDPwGrD%252FQJDkEihiBVLZh2PYQnF9Xlvr0qAlJGkBLZo9G60cGubBoeakRcJM02dqy22AtdS7A93NXA7sGaFPT5Gy1Cz5%252BXXGV3sAafQ%252FICwknpv8T9eDTnWYYBykVrYvG1CJR1NDNBPBzgYC13I%252BuQztaK9aGUpge%252FpeErydR5zLgsh14au8X8TIv5kLCjRw2G2QEZ%252FgGmIKLPd%252FYV4QA9n7iZtLLTh%252FvqAHOukbOsmy7IHkfqh2irrTyS8gr8C36zwPJ6kQFaRLXR4czCm0fnUQ1rImL9gcOwzhEh7UlIqUWIVmUGlymYSJNknW7SSe28eY31kAe54Krwpyjml7Go535XhoTPYyCiOo6teshlBq3joD4fW%252Bfp8wVgfcW6iVeKfH6HtgkAEVckobu91tAj6%252Fb6r9SH5jN3WpsGH2Pjdxe6bqmSRnnVd7U51b5pRHN8pF4g8uKlkLsK7fpUlKs8Bm6jplWni%252FyUfLdY9UL5mEck48IKwMbaORuv4LxITOrL80%252BjLHurEsZ1b4oOHH0Gq37GU0r9pKpTaZodSOSZ%252FwgIX3qRi%252BfSfp%252FuW9JWzKQQlybXLCVLZltWSouZXCBnH8nCEPFqnWF%252FRhvvKU5AiOyy3oxD8LYeokwf61Y6jvA2Lc%252FN5spV9u5Aq8SBM580Nd1r4l4RPqG0F9kzvTF4YAAohV2UGF4wr%252BMk50adMYr4BrZutyOnLxN0lDbc13SRroTreQQiStDXgztbpPSF3WIVYIHJvg8T3WO86jVSNjqUwbAv5UqQlxU5Ye5groRcPi2nnJW%252Bg%7Cclp%3A2334524%7Ctkp%3ABFBMoPydwNJf\n"
     ]
    }
   ],
   "source": [
    "### This part it the previous verion of the homework,which asks to find the sponored items\n",
    "### Why I still keep this part: The class of the sponsored is dynamic, each time I open the page , \n",
    "### some items have sponsored, \n",
    "### However, in the elements of the web page, every item has few class with different values with text of one letter. \n",
    "### This is the CSS of the page\n",
    "### In this part, I wrote regex to find the rules the web set in the code, \n",
    "### and find the unqiue class for each time open the page\n",
    "### Using this method, I can locate the right item with sponsored.\n",
    "\n",
    "my_dict={}\n",
    "for i in range(1,11):\n",
    "    filename = \"ebay_lg_phone_\"+str(i) +\".html\"\n",
    "    \n",
    "    with open(filename, 'r', encoding='utf-8') as f:\n",
    "        webpage = BeautifulSoup(f.read(), 'html.parser')\n",
    "    \n",
    "    code=str(webpage)   ## Extract all the web code\n",
    "    \n",
    "    # The rule of css in the web code is like this format: \n",
    "    ## <style type=\"text/css\">span.s-m1yuhh {display: inline;}span.s-o2xlx7k { display: none;}</style>\n",
    "    import re\n",
    "    ## apply this regex can extract the class we want to locate the item with sponored\n",
    "    span = re.findall('span\\.([^\\s\\{]+)\\s*\\{\\s*display\\:\\s*inline',code)\n",
    "    span = ''.join(span)\n",
    "    sponsor = webpage.find_all('div', attrs={'class': 's-item__wrapper clearfix'})\n",
    "    \n",
    "    for j in sponsor:\n",
    "        a= j.find('span', attrs={'class': span})  \n",
    "        ## If the item has this class, it's sponsored item\n",
    "        if a is not None :\n",
    "            name=j.find('h3', attrs={'class': 's-item__title'}).text \n",
    "            ### get the item tilte, link\n",
    "            link=j.find('a', href=True)['href']\n",
    "            my_dict[name] =link\n",
    "my_dict.pop('')\n",
    "### print the results of the sponsored items and the links\n",
    "for key,value in my_dict.items(): \n",
    "    print('{key}: {value}'.format(key = key, value = value))"
   ]
  },
  {
   "cell_type": "code",
   "execution_count": null,
   "id": "6e9dbbde",
   "metadata": {},
   "outputs": [],
   "source": []
  }
 ],
 "metadata": {
  "kernelspec": {
   "display_name": "Python 3 (ipykernel)",
   "language": "python",
   "name": "python3"
  },
  "language_info": {
   "codemirror_mode": {
    "name": "ipython",
    "version": 3
   },
   "file_extension": ".py",
   "mimetype": "text/x-python",
   "name": "python",
   "nbconvert_exporter": "python",
   "pygments_lexer": "ipython3",
   "version": "3.9.0"
  }
 },
 "nbformat": 4,
 "nbformat_minor": 5
}
